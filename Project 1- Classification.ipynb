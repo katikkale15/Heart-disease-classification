{
 "cells": [
  {
   "cell_type": "markdown",
   "id": "12b3a002",
   "metadata": {},
   "source": [
    "## Predicting heart Disease using Machine learning"
   ]
  },
  {
   "cell_type": "markdown",
   "id": "20db6d6c",
   "metadata": {},
   "source": [
    "Taking the approach:\n",
    "1. Problem defination\n",
    "2. data\n",
    "3. evaluation\n",
    "4. features\n",
    "5. modelling\n",
    "6. experimentation"
   ]
  },
  {
   "cell_type": "markdown",
   "id": "e3735708",
   "metadata": {},
   "source": [
    "### 1. Problem defination\n",
    "\n",
    "In a statement,\n",
    "> Given clinical parameteres about a patient, can we predict whether or not they have heart disease.\n",
    "\n",
    "### 2. Data:\n",
    "\n",
    "> It is a data of 14 columns, ranging for various factors that actually influence a heart- disease.\n",
    "\n",
    "### 3. Evaluation:\n",
    "\n",
    "> If we can reach 95% accuracy as predicting whether or not a patient has heart disease during the proof of concept, well pusue the project\n",
    "\n",
    "### 4. Features:\n",
    "\n",
    "> Target will be the target classified as y in the model. The other columns will be classified as X. The X contains the features of the particular model.\n",
    "age - age in years\n",
    "sex - (1 = male; 0 = female)\n",
    "cp - chest pain type\n",
    "0: Typical angina: chest pain related decrease blood supply to the heart\n",
    "1: Atypical angina: chest pain not related to heart\n",
    "2: Non-anginal pain: typically esophageal spasms (non heart related)\n",
    "3: Asymptomatic: chest pain not showing signs of disease\n",
    "trestbps - resting blood pressure (in mm Hg on admission to the hospital) anything above 130-140 is typically cause for concern\n",
    "chol - serum cholestoral in mg/dl\n",
    "serum = LDL + HDL + .2 * triglycerides\n",
    "above 200 is cause for concern\n",
    "fbs - (fasting blood sugar > 120 mg/dl) (1 = true; 0 = false)\n",
    "'>126' mg/dL signals diabetes\n",
    "restecg - resting electrocardiographic results\n",
    "0: Nothing to note\n",
    "1: ST-T Wave abnormality\n",
    "can range from mild symptoms to severe problems\n",
    "signals non-normal heart beat\n",
    "2: Possible or definite left ventricular hypertrophy\n",
    "Enlarged heart's main pumping chamber\n",
    "thalach - maximum heart rate achieved\n",
    "exang - exercise induced angina (1 = yes; 0 = no)\n",
    "oldpeak - ST depression induced by exercise relative to rest looks at stress of heart during excercise unhealthy heart will stress more\n",
    "slope - the slope of the peak exercise ST segment\n",
    "0: Upsloping: better heart rate with excercise (uncommon)\n",
    "1: Flatsloping: minimal change (typical healthy heart)\n",
    "2: Downslopins: signs of unhealthy heart\n",
    "ca - number of major vessels (0-3) colored by flourosopy\n",
    "colored vessel means the doctor can see the blood passing through\n",
    "the more blood movement the better (no clots)\n",
    "thal - thalium stress result\n",
    "1,3: normal\n",
    "6: fixed defect: used to be defect but ok now\n",
    "7: reversable defect: no proper blood movement when excercising\n",
    "target - have disease or not (1=yes, 0=no) (= the predicted attribute)"
   ]
  },
  {
   "cell_type": "code",
   "execution_count": 7,
   "id": "c5aba37b",
   "metadata": {},
   "outputs": [],
   "source": [
    "# Data analysis modules\n",
    "import numpy as np\n",
    "import pandas as pd\n",
    "import matplotlib.pyplot as plt\n",
    "import seaborn as sns\n",
    "\n",
    "# Models:\n",
    "from sklearn.linear_model import LogisticRegression\n",
    "from sklearn.neighbors import KNeighborsClassifier\n",
    "from sklearn.ensemble import RandomForestClassifier\n",
    "\n",
    "# Evaluation:\n",
    "from sklearn.model_selection import train_test_split, GridSearchCV, RandomizedSearchCV, cross_val_score\n",
    "from sklearn.metrics import confusion_matrix, classification_report, precision_score, recall_score, f1_score, plot_roc_curve"
   ]
  },
  {
   "cell_type": "code",
   "execution_count": 9,
   "id": "54291576",
   "metadata": {},
   "outputs": [
    {
     "data": {
      "text/plain": [
       "(303, 14)"
      ]
     },
     "execution_count": 9,
     "metadata": {},
     "output_type": "execute_result"
    }
   ],
   "source": [
    "# Data:\n",
    "df = pd.read_csv(\"heart-disease.csv\")\n",
    "df.shape"
   ]
  },
  {
   "cell_type": "code",
   "execution_count": 10,
   "id": "00ca0eea",
   "metadata": {},
   "outputs": [
    {
     "data": {
      "text/plain": [
       "age         0\n",
       "sex         0\n",
       "cp          0\n",
       "trestbps    0\n",
       "chol        0\n",
       "fbs         0\n",
       "restecg     0\n",
       "thalach     0\n",
       "exang       0\n",
       "oldpeak     0\n",
       "slope       0\n",
       "ca          0\n",
       "thal        0\n",
       "target      0\n",
       "dtype: int64"
      ]
     },
     "execution_count": 10,
     "metadata": {},
     "output_type": "execute_result"
    }
   ],
   "source": [
    "df.isna().sum()"
   ]
  },
  {
   "cell_type": "markdown",
   "id": "ec0c9c99",
   "metadata": {},
   "source": [
    "### data exploration: to find out more about the data and become the expert on the dataset\n",
    "**EDA-> Exploratory data analysis**\n",
    "\n",
    "* what question looking to solve?\n",
    "* what kind of data we have?\n",
    "* are there missing datas?\n",
    "* are there any outliers?\n",
    "* how can you add change or remove features as we try to get more out of our data?"
   ]
  },
  {
   "cell_type": "code",
   "execution_count": 13,
   "id": "b587c485",
   "metadata": {},
   "outputs": [
    {
     "data": {
      "text/html": [
       "<div>\n",
       "<style scoped>\n",
       "    .dataframe tbody tr th:only-of-type {\n",
       "        vertical-align: middle;\n",
       "    }\n",
       "\n",
       "    .dataframe tbody tr th {\n",
       "        vertical-align: top;\n",
       "    }\n",
       "\n",
       "    .dataframe thead th {\n",
       "        text-align: right;\n",
       "    }\n",
       "</style>\n",
       "<table border=\"1\" class=\"dataframe\">\n",
       "  <thead>\n",
       "    <tr style=\"text-align: right;\">\n",
       "      <th></th>\n",
       "      <th>age</th>\n",
       "      <th>sex</th>\n",
       "      <th>cp</th>\n",
       "      <th>trestbps</th>\n",
       "      <th>chol</th>\n",
       "      <th>fbs</th>\n",
       "      <th>restecg</th>\n",
       "      <th>thalach</th>\n",
       "      <th>exang</th>\n",
       "      <th>oldpeak</th>\n",
       "      <th>slope</th>\n",
       "      <th>ca</th>\n",
       "      <th>thal</th>\n",
       "      <th>target</th>\n",
       "    </tr>\n",
       "  </thead>\n",
       "  <tbody>\n",
       "    <tr>\n",
       "      <th>0</th>\n",
       "      <td>63</td>\n",
       "      <td>1</td>\n",
       "      <td>3</td>\n",
       "      <td>145</td>\n",
       "      <td>233</td>\n",
       "      <td>1</td>\n",
       "      <td>0</td>\n",
       "      <td>150</td>\n",
       "      <td>0</td>\n",
       "      <td>2.3</td>\n",
       "      <td>0</td>\n",
       "      <td>0</td>\n",
       "      <td>1</td>\n",
       "      <td>1</td>\n",
       "    </tr>\n",
       "    <tr>\n",
       "      <th>1</th>\n",
       "      <td>37</td>\n",
       "      <td>1</td>\n",
       "      <td>2</td>\n",
       "      <td>130</td>\n",
       "      <td>250</td>\n",
       "      <td>0</td>\n",
       "      <td>1</td>\n",
       "      <td>187</td>\n",
       "      <td>0</td>\n",
       "      <td>3.5</td>\n",
       "      <td>0</td>\n",
       "      <td>0</td>\n",
       "      <td>2</td>\n",
       "      <td>1</td>\n",
       "    </tr>\n",
       "    <tr>\n",
       "      <th>2</th>\n",
       "      <td>41</td>\n",
       "      <td>0</td>\n",
       "      <td>1</td>\n",
       "      <td>130</td>\n",
       "      <td>204</td>\n",
       "      <td>0</td>\n",
       "      <td>0</td>\n",
       "      <td>172</td>\n",
       "      <td>0</td>\n",
       "      <td>1.4</td>\n",
       "      <td>2</td>\n",
       "      <td>0</td>\n",
       "      <td>2</td>\n",
       "      <td>1</td>\n",
       "    </tr>\n",
       "    <tr>\n",
       "      <th>3</th>\n",
       "      <td>56</td>\n",
       "      <td>1</td>\n",
       "      <td>1</td>\n",
       "      <td>120</td>\n",
       "      <td>236</td>\n",
       "      <td>0</td>\n",
       "      <td>1</td>\n",
       "      <td>178</td>\n",
       "      <td>0</td>\n",
       "      <td>0.8</td>\n",
       "      <td>2</td>\n",
       "      <td>0</td>\n",
       "      <td>2</td>\n",
       "      <td>1</td>\n",
       "    </tr>\n",
       "    <tr>\n",
       "      <th>4</th>\n",
       "      <td>57</td>\n",
       "      <td>0</td>\n",
       "      <td>0</td>\n",
       "      <td>120</td>\n",
       "      <td>354</td>\n",
       "      <td>0</td>\n",
       "      <td>1</td>\n",
       "      <td>163</td>\n",
       "      <td>1</td>\n",
       "      <td>0.6</td>\n",
       "      <td>2</td>\n",
       "      <td>0</td>\n",
       "      <td>2</td>\n",
       "      <td>1</td>\n",
       "    </tr>\n",
       "  </tbody>\n",
       "</table>\n",
       "</div>"
      ],
      "text/plain": [
       "   age  sex  cp  trestbps  chol  fbs  restecg  thalach  exang  oldpeak  slope  \\\n",
       "0   63    1   3       145   233    1        0      150      0      2.3      0   \n",
       "1   37    1   2       130   250    0        1      187      0      3.5      0   \n",
       "2   41    0   1       130   204    0        0      172      0      1.4      2   \n",
       "3   56    1   1       120   236    0        1      178      0      0.8      2   \n",
       "4   57    0   0       120   354    0        1      163      1      0.6      2   \n",
       "\n",
       "   ca  thal  target  \n",
       "0   0     1       1  \n",
       "1   0     2       1  \n",
       "2   0     2       1  \n",
       "3   0     2       1  \n",
       "4   0     2       1  "
      ]
     },
     "execution_count": 13,
     "metadata": {},
     "output_type": "execute_result"
    }
   ],
   "source": [
    "df.head()"
   ]
  },
  {
   "cell_type": "code",
   "execution_count": 17,
   "id": "d9795f68",
   "metadata": {},
   "outputs": [
    {
     "data": {
      "image/png": "[encoded data removed]",
      "text/plain": [
       "<Figure size 640x480 with 1 Axes>"
      ]
     },
     "metadata": {},
     "output_type": "display_data"
    }
   ],
   "source": [
    "df[\"target\"].value_counts().plot(kind=\"bar\", color=[\"salmon\",\"lightblue\"]);"
   ]
  },
  {
   "cell_type": "code",
   "execution_count": 18,
   "id": "e0243cc2",
   "metadata": {},
   "outputs": [
    {
     "name": "stdout",
     "output_type": "stream",
     "text": [
      "<class 'pandas.core.frame.DataFrame'>\n",
      "RangeIndex: 303 entries, 0 to 302\n",
      "Data columns (total 14 columns):\n",
      " #   Column    Non-Null Count  Dtype  \n",
      "---  ------    --------------  -----  \n",
      " 0   age       303 non-null    int64  \n",
      " 1   sex       303 non-null    int64  \n",
      " 2   cp        303 non-null    int64  \n",
      " 3   trestbps  303 non-null    int64  \n",
      " 4   chol      303 non-null    int64  \n",
      " 5   fbs       303 non-null    int64  \n",
      " 6   restecg   303 non-null    int64  \n",
      " 7   thalach   303 non-null    int64  \n",
      " 8   exang     303 non-null    int64  \n",
      " 9   oldpeak   303 non-null    float64\n",
      " 10  slope     303 non-null    int64  \n",
      " 11  ca        303 non-null    int64  \n",
      " 12  thal      303 non-null    int64  \n",
      " 13  target    303 non-null    int64  \n",
      "dtypes: float64(1), int64(13)\n",
      "memory usage: 33.3 KB\n"
     ]
    }
   ],
   "source": [
    "df.info()"
   ]
  },
  {
   "cell_type": "markdown",
   "id": "74f9241f",
   "metadata": {},
   "source": [
    "#### Heart disease as per SEX:"
   ]
  },
  {
   "cell_type": "code",
   "execution_count": 19,
   "id": "2d2fb3fc",
   "metadata": {},
   "outputs": [
    {
     "data": {
      "text/plain": [
       "1    207\n",
       "0     96\n",
       "Name: sex, dtype: int64"
      ]
     },
     "execution_count": 19,
     "metadata": {},
     "output_type": "execute_result"
    }
   ],
   "source": [
    "df.sex.value_counts()"
   ]
  },
  {
   "cell_type": "code",
   "execution_count": 20,
   "id": "3dc49788",
   "metadata": {},
   "outputs": [
    {
     "data": {
      "text/html": [
       "<div>\n",
       "<style scoped>\n",
       "    .dataframe tbody tr th:only-of-type {\n",
       "        vertical-align: middle;\n",
       "    }\n",
       "\n",
       "    .dataframe tbody tr th {\n",
       "        vertical-align: top;\n",
       "    }\n",
       "\n",
       "    .dataframe thead th {\n",
       "        text-align: right;\n",
       "    }\n",
       "</style>\n",
       "<table border=\"1\" class=\"dataframe\">\n",
       "  <thead>\n",
       "    <tr style=\"text-align: right;\">\n",
       "      <th>sex</th>\n",
       "      <th>0</th>\n",
       "      <th>1</th>\n",
       "    </tr>\n",
       "    <tr>\n",
       "      <th>target</th>\n",
       "      <th></th>\n",
       "      <th></th>\n",
       "    </tr>\n",
       "  </thead>\n",
       "  <tbody>\n",
       "    <tr>\n",
       "      <th>0</th>\n",
       "      <td>24</td>\n",
       "      <td>114</td>\n",
       "    </tr>\n",
       "    <tr>\n",
       "      <th>1</th>\n",
       "      <td>72</td>\n",
       "      <td>93</td>\n",
       "    </tr>\n",
       "  </tbody>\n",
       "</table>\n",
       "</div>"
      ],
      "text/plain": [
       "sex      0    1\n",
       "target         \n",
       "0       24  114\n",
       "1       72   93"
      ]
     },
     "execution_count": 20,
     "metadata": {},
     "output_type": "execute_result"
    }
   ],
   "source": [
    "pd.crosstab(df.target, df.sex)"
   ]
  },
  {
   "cell_type": "markdown",
   "id": "4aaacba6",
   "metadata": {},
   "source": [
    "women have a 75% chance of having a heart disease..."
   ]
  },
  {
   "cell_type": "code",
   "execution_count": 23,
   "id": "717606f5",
   "metadata": {},
   "outputs": [
    {
     "data": {
      "text/plain": [
       "(array([0, 1]), [Text(0, 0, '0'), Text(1, 0, '1')])"
      ]
     },
     "execution_count": 23,
     "metadata": {},
     "output_type": "execute_result"
    },
    {
     "data": {
      "image/png": "[encoded data removed]",
      "text/plain": [
       "<Figure size 640x480 with 1 Axes>"
      ]
     },
     "metadata": {},
     "output_type": "display_data"
    }
   ],
   "source": [
    "pd.crosstab(df.target, df.sex).plot(kind=\"bar\", color=[\"salmon\",\"lightblue\"]);\n",
    "plt.title(\"Heart disease crosstab of target with Sex\")\n",
    "plt.xlabel(\"0- no disease, 1- disease\")\n",
    "plt.ylabel(\"Amount\")\n",
    "plt.legend([\"Female\",\"Male\"])\n",
    "plt.xticks(rotation =0)"
   ]
  },
  {
   "cell_type": "markdown",
   "id": "d1fbde95",
   "metadata": {},
   "source": [
    "### Age vs max heart rate for heart dis"
   ]
  },
  {
   "cell_type": "code",
   "execution_count": 27,
   "id": "9692a011",
   "metadata": {},
   "outputs": [
    {
     "data": {
      "text/plain": [
       "<matplotlib.legend.Legend at 0x21252b19f40>"
      ]
     },
     "execution_count": 27,
     "metadata": {},
     "output_type": "execute_result"
    },
    {
     "data": {
      "image/png": "[encoded data removed]",
      "text/plain": [
       "<Figure size 1000x600 with 1 Axes>"
      ]
     },
     "metadata": {},
     "output_type": "display_data"
    }
   ],
   "source": [
    "plt.figure(figsize=(10,6))\n",
    "plt.scatter(df.age[df.target==1],\n",
    "           df.thalach[df.target==1], c = \"salmon\")\n",
    "plt.scatter(df.age[df.target==0],\n",
    "           df.thalach[df.target==0], c = \"lightblue\");\n",
    "plt.title(\"Heart disease in function of age and max heart rate\")\n",
    "plt.xlabel(\"Age\")\n",
    "plt.ylabel(\"Max heart rate\")\n",
    "plt.legend([\"Disease\",\"No disease\"])"
   ]
  },
  {
   "cell_type": "code",
   "execution_count": 29,
   "id": "672b5b8f",
   "metadata": {},
   "outputs": [
    {
     "data": {
      "image/png": "[encoded data removed]",
      "text/plain": [
       "<Figure size 640x480 with 1 Axes>"
      ]
     },
     "metadata": {},
     "output_type": "display_data"
    }
   ],
   "source": [
    "# check dist of age column with hist:\n",
    "df.age.hist();"
   ]
  },
  {
   "cell_type": "code",
   "execution_count": 31,
   "id": "4cf3c9da",
   "metadata": {},
   "outputs": [
    {
     "data": {
      "text/html": [
       "<div>\n",
       "<style scoped>\n",
       "    .dataframe tbody tr th:only-of-type {\n",
       "        vertical-align: middle;\n",
       "    }\n",
       "\n",
       "    .dataframe tbody tr th {\n",
       "        vertical-align: top;\n",
       "    }\n",
       "\n",
       "    .dataframe thead th {\n",
       "        text-align: right;\n",
       "    }\n",
       "</style>\n",
       "<table border=\"1\" class=\"dataframe\">\n",
       "  <thead>\n",
       "    <tr style=\"text-align: right;\">\n",
       "      <th>cp</th>\n",
       "      <th>0</th>\n",
       "      <th>1</th>\n",
       "      <th>2</th>\n",
       "      <th>3</th>\n",
       "    </tr>\n",
       "    <tr>\n",
       "      <th>target</th>\n",
       "      <th></th>\n",
       "      <th></th>\n",
       "      <th></th>\n",
       "      <th></th>\n",
       "    </tr>\n",
       "  </thead>\n",
       "  <tbody>\n",
       "    <tr>\n",
       "      <th>0</th>\n",
       "      <td>104</td>\n",
       "      <td>9</td>\n",
       "      <td>18</td>\n",
       "      <td>7</td>\n",
       "    </tr>\n",
       "    <tr>\n",
       "      <th>1</th>\n",
       "      <td>39</td>\n",
       "      <td>41</td>\n",
       "      <td>69</td>\n",
       "      <td>16</td>\n",
       "    </tr>\n",
       "  </tbody>\n",
       "</table>\n",
       "</div>"
      ],
      "text/plain": [
       "cp        0   1   2   3\n",
       "target                 \n",
       "0       104   9  18   7\n",
       "1        39  41  69  16"
      ]
     },
     "execution_count": 31,
     "metadata": {},
     "output_type": "execute_result"
    }
   ],
   "source": [
    "pd.crosstab(df.target,df.cp)"
   ]
  },
  {
   "cell_type": "code",
   "execution_count": 34,
   "id": "73ac56d2",
   "metadata": {},
   "outputs": [
    {
     "data": {
      "text/plain": [
       "<matplotlib.legend.Legend at 0x212527caf70>"
      ]
     },
     "execution_count": 34,
     "metadata": {},
     "output_type": "execute_result"
    },
    {
     "data": {
      "image/png": "[encoded data removed]",
      "text/plain": [
       "<Figure size 640x480 with 1 Axes>"
      ]
     },
     "metadata": {},
     "output_type": "display_data"
    }
   ],
   "source": [
    "pd.crosstab(df.cp, df.target).plot(kind=\"bar\", color=[\"salmon\",\"lightblue\"]);\n",
    "plt.title(\"Heart disease crosstab of chest pain type and target\")\n",
    "plt.xlabel(\"chest pain type\")\n",
    "plt.ylabel(\"Amount\")\n",
    "plt.legend([\"No disease\",\"Disease\"])"
   ]
  },
  {
   "cell_type": "code",
   "execution_count": 36,
   "id": "a697d976",
   "metadata": {},
   "outputs": [
    {
     "data": {
      "text/html": [
       "<div>\n",
       "<style scoped>\n",
       "    .dataframe tbody tr th:only-of-type {\n",
       "        vertical-align: middle;\n",
       "    }\n",
       "\n",
       "    .dataframe tbody tr th {\n",
       "        vertical-align: top;\n",
       "    }\n",
       "\n",
       "    .dataframe thead th {\n",
       "        text-align: right;\n",
       "    }\n",
       "</style>\n",
       "<table border=\"1\" class=\"dataframe\">\n",
       "  <thead>\n",
       "    <tr style=\"text-align: right;\">\n",
       "      <th></th>\n",
       "      <th>age</th>\n",
       "      <th>sex</th>\n",
       "      <th>cp</th>\n",
       "      <th>trestbps</th>\n",
       "      <th>chol</th>\n",
       "      <th>fbs</th>\n",
       "      <th>restecg</th>\n",
       "      <th>thalach</th>\n",
       "      <th>exang</th>\n",
       "      <th>oldpeak</th>\n",
       "      <th>slope</th>\n",
       "      <th>ca</th>\n",
       "      <th>thal</th>\n",
       "      <th>target</th>\n",
       "    </tr>\n",
       "  </thead>\n",
       "  <tbody>\n",
       "    <tr>\n",
       "      <th>age</th>\n",
       "      <td>1.000000</td>\n",
       "      <td>-0.098447</td>\n",
       "      <td>-0.068653</td>\n",
       "      <td>0.279351</td>\n",
       "      <td>0.213678</td>\n",
       "      <td>0.121308</td>\n",
       "      <td>-0.116211</td>\n",
       "      <td>-0.398522</td>\n",
       "      <td>0.096801</td>\n",
       "      <td>0.210013</td>\n",
       "      <td>-0.168814</td>\n",
       "      <td>0.276326</td>\n",
       "      <td>0.068001</td>\n",
       "      <td>-0.225439</td>\n",
       "    </tr>\n",
       "    <tr>\n",
       "      <th>sex</th>\n",
       "      <td>-0.098447</td>\n",
       "      <td>1.000000</td>\n",
       "      <td>-0.049353</td>\n",
       "      <td>-0.056769</td>\n",
       "      <td>-0.197912</td>\n",
       "      <td>0.045032</td>\n",
       "      <td>-0.058196</td>\n",
       "      <td>-0.044020</td>\n",
       "      <td>0.141664</td>\n",
       "      <td>0.096093</td>\n",
       "      <td>-0.030711</td>\n",
       "      <td>0.118261</td>\n",
       "      <td>0.210041</td>\n",
       "      <td>-0.280937</td>\n",
       "    </tr>\n",
       "    <tr>\n",
       "      <th>cp</th>\n",
       "      <td>-0.068653</td>\n",
       "      <td>-0.049353</td>\n",
       "      <td>1.000000</td>\n",
       "      <td>0.047608</td>\n",
       "      <td>-0.076904</td>\n",
       "      <td>0.094444</td>\n",
       "      <td>0.044421</td>\n",
       "      <td>0.295762</td>\n",
       "      <td>-0.394280</td>\n",
       "      <td>-0.149230</td>\n",
       "      <td>0.119717</td>\n",
       "      <td>-0.181053</td>\n",
       "      <td>-0.161736</td>\n",
       "      <td>0.433798</td>\n",
       "    </tr>\n",
       "    <tr>\n",
       "      <th>trestbps</th>\n",
       "      <td>0.279351</td>\n",
       "      <td>-0.056769</td>\n",
       "      <td>0.047608</td>\n",
       "      <td>1.000000</td>\n",
       "      <td>0.123174</td>\n",
       "      <td>0.177531</td>\n",
       "      <td>-0.114103</td>\n",
       "      <td>-0.046698</td>\n",
       "      <td>0.067616</td>\n",
       "      <td>0.193216</td>\n",
       "      <td>-0.121475</td>\n",
       "      <td>0.101389</td>\n",
       "      <td>0.062210</td>\n",
       "      <td>-0.144931</td>\n",
       "    </tr>\n",
       "    <tr>\n",
       "      <th>chol</th>\n",
       "      <td>0.213678</td>\n",
       "      <td>-0.197912</td>\n",
       "      <td>-0.076904</td>\n",
       "      <td>0.123174</td>\n",
       "      <td>1.000000</td>\n",
       "      <td>0.013294</td>\n",
       "      <td>-0.151040</td>\n",
       "      <td>-0.009940</td>\n",
       "      <td>0.067023</td>\n",
       "      <td>0.053952</td>\n",
       "      <td>-0.004038</td>\n",
       "      <td>0.070511</td>\n",
       "      <td>0.098803</td>\n",
       "      <td>-0.085239</td>\n",
       "    </tr>\n",
       "    <tr>\n",
       "      <th>fbs</th>\n",
       "      <td>0.121308</td>\n",
       "      <td>0.045032</td>\n",
       "      <td>0.094444</td>\n",
       "      <td>0.177531</td>\n",
       "      <td>0.013294</td>\n",
       "      <td>1.000000</td>\n",
       "      <td>-0.084189</td>\n",
       "      <td>-0.008567</td>\n",
       "      <td>0.025665</td>\n",
       "      <td>0.005747</td>\n",
       "      <td>-0.059894</td>\n",
       "      <td>0.137979</td>\n",
       "      <td>-0.032019</td>\n",
       "      <td>-0.028046</td>\n",
       "    </tr>\n",
       "    <tr>\n",
       "      <th>restecg</th>\n",
       "      <td>-0.116211</td>\n",
       "      <td>-0.058196</td>\n",
       "      <td>0.044421</td>\n",
       "      <td>-0.114103</td>\n",
       "      <td>-0.151040</td>\n",
       "      <td>-0.084189</td>\n",
       "      <td>1.000000</td>\n",
       "      <td>0.044123</td>\n",
       "      <td>-0.070733</td>\n",
       "      <td>-0.058770</td>\n",
       "      <td>0.093045</td>\n",
       "      <td>-0.072042</td>\n",
       "      <td>-0.011981</td>\n",
       "      <td>0.137230</td>\n",
       "    </tr>\n",
       "    <tr>\n",
       "      <th>thalach</th>\n",
       "      <td>-0.398522</td>\n",
       "      <td>-0.044020</td>\n",
       "      <td>0.295762</td>\n",
       "      <td>-0.046698</td>\n",
       "      <td>-0.009940</td>\n",
       "      <td>-0.008567</td>\n",
       "      <td>0.044123</td>\n",
       "      <td>1.000000</td>\n",
       "      <td>-0.378812</td>\n",
       "      <td>-0.344187</td>\n",
       "      <td>0.386784</td>\n",
       "      <td>-0.213177</td>\n",
       "      <td>-0.096439</td>\n",
       "      <td>0.421741</td>\n",
       "    </tr>\n",
       "    <tr>\n",
       "      <th>exang</th>\n",
       "      <td>0.096801</td>\n",
       "      <td>0.141664</td>\n",
       "      <td>-0.394280</td>\n",
       "      <td>0.067616</td>\n",
       "      <td>0.067023</td>\n",
       "      <td>0.025665</td>\n",
       "      <td>-0.070733</td>\n",
       "      <td>-0.378812</td>\n",
       "      <td>1.000000</td>\n",
       "      <td>0.288223</td>\n",
       "      <td>-0.257748</td>\n",
       "      <td>0.115739</td>\n",
       "      <td>0.206754</td>\n",
       "      <td>-0.436757</td>\n",
       "    </tr>\n",
       "    <tr>\n",
       "      <th>oldpeak</th>\n",
       "      <td>0.210013</td>\n",
       "      <td>0.096093</td>\n",
       "      <td>-0.149230</td>\n",
       "      <td>0.193216</td>\n",
       "      <td>0.053952</td>\n",
       "      <td>0.005747</td>\n",
       "      <td>-0.058770</td>\n",
       "      <td>-0.344187</td>\n",
       "      <td>0.288223</td>\n",
       "      <td>1.000000</td>\n",
       "      <td>-0.577537</td>\n",
       "      <td>0.222682</td>\n",
       "      <td>0.210244</td>\n",
       "      <td>-0.430696</td>\n",
       "    </tr>\n",
       "    <tr>\n",
       "      <th>slope</th>\n",
       "      <td>-0.168814</td>\n",
       "      <td>-0.030711</td>\n",
       "      <td>0.119717</td>\n",
       "      <td>-0.121475</td>\n",
       "      <td>-0.004038</td>\n",
       "      <td>-0.059894</td>\n",
       "      <td>0.093045</td>\n",
       "      <td>0.386784</td>\n",
       "      <td>-0.257748</td>\n",
       "      <td>-0.577537</td>\n",
       "      <td>1.000000</td>\n",
       "      <td>-0.080155</td>\n",
       "      <td>-0.104764</td>\n",
       "      <td>0.345877</td>\n",
       "    </tr>\n",
       "    <tr>\n",
       "      <th>ca</th>\n",
       "      <td>0.276326</td>\n",
       "      <td>0.118261</td>\n",
       "      <td>-0.181053</td>\n",
       "      <td>0.101389</td>\n",
       "      <td>0.070511</td>\n",
       "      <td>0.137979</td>\n",
       "      <td>-0.072042</td>\n",
       "      <td>-0.213177</td>\n",
       "      <td>0.115739</td>\n",
       "      <td>0.222682</td>\n",
       "      <td>-0.080155</td>\n",
       "      <td>1.000000</td>\n",
       "      <td>0.151832</td>\n",
       "      <td>-0.391724</td>\n",
       "    </tr>\n",
       "    <tr>\n",
       "      <th>thal</th>\n",
       "      <td>0.068001</td>\n",
       "      <td>0.210041</td>\n",
       "      <td>-0.161736</td>\n",
       "      <td>0.062210</td>\n",
       "      <td>0.098803</td>\n",
       "      <td>-0.032019</td>\n",
       "      <td>-0.011981</td>\n",
       "      <td>-0.096439</td>\n",
       "      <td>0.206754</td>\n",
       "      <td>0.210244</td>\n",
       "      <td>-0.104764</td>\n",
       "      <td>0.151832</td>\n",
       "      <td>1.000000</td>\n",
       "      <td>-0.344029</td>\n",
       "    </tr>\n",
       "    <tr>\n",
       "      <th>target</th>\n",
       "      <td>-0.225439</td>\n",
       "      <td>-0.280937</td>\n",
       "      <td>0.433798</td>\n",
       "      <td>-0.144931</td>\n",
       "      <td>-0.085239</td>\n",
       "      <td>-0.028046</td>\n",
       "      <td>0.137230</td>\n",
       "      <td>0.421741</td>\n",
       "      <td>-0.436757</td>\n",
       "      <td>-0.430696</td>\n",
       "      <td>0.345877</td>\n",
       "      <td>-0.391724</td>\n",
       "      <td>-0.344029</td>\n",
       "      <td>1.000000</td>\n",
       "    </tr>\n",
       "  </tbody>\n",
       "</table>\n",
       "</div>"
      ],
      "text/plain": [
       "               age       sex        cp  trestbps      chol       fbs  \\\n",
       "age       1.000000 -0.098447 -0.068653  0.279351  0.213678  0.121308   \n",
       "sex      -0.098447  1.000000 -0.049353 -0.056769 -0.197912  0.045032   \n",
       "cp       -0.068653 -0.049353  1.000000  0.047608 -0.076904  0.094444   \n",
       "trestbps  0.279351 -0.056769  0.047608  1.000000  0.123174  0.177531   \n",
       "chol      0.213678 -0.197912 -0.076904  0.123174  1.000000  0.013294   \n",
       "fbs       0.121308  0.045032  0.094444  0.177531  0.013294  1.000000   \n",
       "restecg  -0.116211 -0.058196  0.044421 -0.114103 -0.151040 -0.084189   \n",
       "thalach  -0.398522 -0.044020  0.295762 -0.046698 -0.009940 -0.008567   \n",
       "exang     0.096801  0.141664 -0.394280  0.067616  0.067023  0.025665   \n",
       "oldpeak   0.210013  0.096093 -0.149230  0.193216  0.053952  0.005747   \n",
       "slope    -0.168814 -0.030711  0.119717 -0.121475 -0.004038 -0.059894   \n",
       "ca        0.276326  0.118261 -0.181053  0.101389  0.070511  0.137979   \n",
       "thal      0.068001  0.210041 -0.161736  0.062210  0.098803 -0.032019   \n",
       "target   -0.225439 -0.280937  0.433798 -0.144931 -0.085239 -0.028046   \n",
       "\n",
       "           restecg   thalach     exang   oldpeak     slope        ca  \\\n",
       "age      -0.116211 -0.398522  0.096801  0.210013 -0.168814  0.276326   \n",
       "sex      -0.058196 -0.044020  0.141664  0.096093 -0.030711  0.118261   \n",
       "cp        0.044421  0.295762 -0.394280 -0.149230  0.119717 -0.181053   \n",
       "trestbps -0.114103 -0.046698  0.067616  0.193216 -0.121475  0.101389   \n",
       "chol     -0.151040 -0.009940  0.067023  0.053952 -0.004038  0.070511   \n",
       "fbs      -0.084189 -0.008567  0.025665  0.005747 -0.059894  0.137979   \n",
       "restecg   1.000000  0.044123 -0.070733 -0.058770  0.093045 -0.072042   \n",
       "thalach   0.044123  1.000000 -0.378812 -0.344187  0.386784 -0.213177   \n",
       "exang    -0.070733 -0.378812  1.000000  0.288223 -0.257748  0.115739   \n",
       "oldpeak  -0.058770 -0.344187  0.288223  1.000000 -0.577537  0.222682   \n",
       "slope     0.093045  0.386784 -0.257748 -0.577537  1.000000 -0.080155   \n",
       "ca       -0.072042 -0.213177  0.115739  0.222682 -0.080155  1.000000   \n",
       "thal     -0.011981 -0.096439  0.206754  0.210244 -0.104764  0.151832   \n",
       "target    0.137230  0.421741 -0.436757 -0.430696  0.345877 -0.391724   \n",
       "\n",
       "              thal    target  \n",
       "age       0.068001 -0.225439  \n",
       "sex       0.210041 -0.280937  \n",
       "cp       -0.161736  0.433798  \n",
       "trestbps  0.062210 -0.144931  \n",
       "chol      0.098803 -0.085239  \n",
       "fbs      -0.032019 -0.028046  \n",
       "restecg  -0.011981  0.137230  \n",
       "thalach  -0.096439  0.421741  \n",
       "exang     0.206754 -0.436757  \n",
       "oldpeak   0.210244 -0.430696  \n",
       "slope    -0.104764  0.345877  \n",
       "ca        0.151832 -0.391724  \n",
       "thal      1.000000 -0.344029  \n",
       "target   -0.344029  1.000000  "
      ]
     },
     "execution_count": 36,
     "metadata": {},
     "output_type": "execute_result"
    }
   ],
   "source": [
    "# build a correlation matrix:\n",
    "df.corr()"
   ]
  },
  {
   "cell_type": "code",
   "execution_count": 39,
   "id": "01667870",
   "metadata": {},
   "outputs": [
    {
     "data": {
      "image/png": "[encoded data removed]",
      "text/plain": [
       "<Figure size 1500x1000 with 2 Axes>"
      ]
     },
     "metadata": {},
     "output_type": "display_data"
    }
   ],
   "source": [
    "# corr a little prettier:\n",
    "corr_matrix = df.corr()\n",
    "fig, ax = plt.subplots(figsize=(15,10))\n",
    "ax = sns.heatmap(corr_matrix,annot=True,linewidths=0.5,fmt=\".2f\",cmap=\"YlGnBu\");"
   ]
  },
  {
   "cell_type": "markdown",
   "id": "b8a5a22e",
   "metadata": {},
   "source": [
    "a higher positive value means a higher correlation, as cp goes up, so does the target value.\n",
    "a higher negative value means that if my exang goes up then my target value goes down subsequently."
   ]
  },
  {
   "cell_type": "markdown",
   "id": "332c1412",
   "metadata": {},
   "source": [
    "### 5. Modeling:"
   ]
  },
  {
   "cell_type": "code",
   "execution_count": 41,
   "id": "3c86713f",
   "metadata": {},
   "outputs": [],
   "source": [
    "np.random.seed(42)\n",
    "X = df.drop(\"target\", axis=1)\n",
    "y = df[\"target\"]\n",
    "\n",
    "X_train,X_test, y_train, y_test = train_test_split(X,y,test_size=0.2)"
   ]
  },
  {
   "cell_type": "code",
   "execution_count": 42,
   "id": "4a6b103a",
   "metadata": {},
   "outputs": [
    {
     "data": {
      "text/html": [
       "<div>\n",
       "<style scoped>\n",
       "    .dataframe tbody tr th:only-of-type {\n",
       "        vertical-align: middle;\n",
       "    }\n",
       "\n",
       "    .dataframe tbody tr th {\n",
       "        vertical-align: top;\n",
       "    }\n",
       "\n",
       "    .dataframe thead th {\n",
       "        text-align: right;\n",
       "    }\n",
       "</style>\n",
       "<table border=\"1\" class=\"dataframe\">\n",
       "  <thead>\n",
       "    <tr style=\"text-align: right;\">\n",
       "      <th></th>\n",
       "      <th>age</th>\n",
       "      <th>sex</th>\n",
       "      <th>cp</th>\n",
       "      <th>trestbps</th>\n",
       "      <th>chol</th>\n",
       "      <th>fbs</th>\n",
       "      <th>restecg</th>\n",
       "      <th>thalach</th>\n",
       "      <th>exang</th>\n",
       "      <th>oldpeak</th>\n",
       "      <th>slope</th>\n",
       "      <th>ca</th>\n",
       "      <th>thal</th>\n",
       "    </tr>\n",
       "  </thead>\n",
       "  <tbody>\n",
       "    <tr>\n",
       "      <th>132</th>\n",
       "      <td>42</td>\n",
       "      <td>1</td>\n",
       "      <td>1</td>\n",
       "      <td>120</td>\n",
       "      <td>295</td>\n",
       "      <td>0</td>\n",
       "      <td>1</td>\n",
       "      <td>162</td>\n",
       "      <td>0</td>\n",
       "      <td>0.0</td>\n",
       "      <td>2</td>\n",
       "      <td>0</td>\n",
       "      <td>2</td>\n",
       "    </tr>\n",
       "    <tr>\n",
       "      <th>202</th>\n",
       "      <td>58</td>\n",
       "      <td>1</td>\n",
       "      <td>0</td>\n",
       "      <td>150</td>\n",
       "      <td>270</td>\n",
       "      <td>0</td>\n",
       "      <td>0</td>\n",
       "      <td>111</td>\n",
       "      <td>1</td>\n",
       "      <td>0.8</td>\n",
       "      <td>2</td>\n",
       "      <td>0</td>\n",
       "      <td>3</td>\n",
       "    </tr>\n",
       "    <tr>\n",
       "      <th>196</th>\n",
       "      <td>46</td>\n",
       "      <td>1</td>\n",
       "      <td>2</td>\n",
       "      <td>150</td>\n",
       "      <td>231</td>\n",
       "      <td>0</td>\n",
       "      <td>1</td>\n",
       "      <td>147</td>\n",
       "      <td>0</td>\n",
       "      <td>3.6</td>\n",
       "      <td>1</td>\n",
       "      <td>0</td>\n",
       "      <td>2</td>\n",
       "    </tr>\n",
       "    <tr>\n",
       "      <th>75</th>\n",
       "      <td>55</td>\n",
       "      <td>0</td>\n",
       "      <td>1</td>\n",
       "      <td>135</td>\n",
       "      <td>250</td>\n",
       "      <td>0</td>\n",
       "      <td>0</td>\n",
       "      <td>161</td>\n",
       "      <td>0</td>\n",
       "      <td>1.4</td>\n",
       "      <td>1</td>\n",
       "      <td>0</td>\n",
       "      <td>2</td>\n",
       "    </tr>\n",
       "    <tr>\n",
       "      <th>176</th>\n",
       "      <td>60</td>\n",
       "      <td>1</td>\n",
       "      <td>0</td>\n",
       "      <td>117</td>\n",
       "      <td>230</td>\n",
       "      <td>1</td>\n",
       "      <td>1</td>\n",
       "      <td>160</td>\n",
       "      <td>1</td>\n",
       "      <td>1.4</td>\n",
       "      <td>2</td>\n",
       "      <td>2</td>\n",
       "      <td>3</td>\n",
       "    </tr>\n",
       "    <tr>\n",
       "      <th>...</th>\n",
       "      <td>...</td>\n",
       "      <td>...</td>\n",
       "      <td>...</td>\n",
       "      <td>...</td>\n",
       "      <td>...</td>\n",
       "      <td>...</td>\n",
       "      <td>...</td>\n",
       "      <td>...</td>\n",
       "      <td>...</td>\n",
       "      <td>...</td>\n",
       "      <td>...</td>\n",
       "      <td>...</td>\n",
       "      <td>...</td>\n",
       "    </tr>\n",
       "    <tr>\n",
       "      <th>188</th>\n",
       "      <td>50</td>\n",
       "      <td>1</td>\n",
       "      <td>2</td>\n",
       "      <td>140</td>\n",
       "      <td>233</td>\n",
       "      <td>0</td>\n",
       "      <td>1</td>\n",
       "      <td>163</td>\n",
       "      <td>0</td>\n",
       "      <td>0.6</td>\n",
       "      <td>1</td>\n",
       "      <td>1</td>\n",
       "      <td>3</td>\n",
       "    </tr>\n",
       "    <tr>\n",
       "      <th>71</th>\n",
       "      <td>51</td>\n",
       "      <td>1</td>\n",
       "      <td>2</td>\n",
       "      <td>94</td>\n",
       "      <td>227</td>\n",
       "      <td>0</td>\n",
       "      <td>1</td>\n",
       "      <td>154</td>\n",
       "      <td>1</td>\n",
       "      <td>0.0</td>\n",
       "      <td>2</td>\n",
       "      <td>1</td>\n",
       "      <td>3</td>\n",
       "    </tr>\n",
       "    <tr>\n",
       "      <th>106</th>\n",
       "      <td>69</td>\n",
       "      <td>1</td>\n",
       "      <td>3</td>\n",
       "      <td>160</td>\n",
       "      <td>234</td>\n",
       "      <td>1</td>\n",
       "      <td>0</td>\n",
       "      <td>131</td>\n",
       "      <td>0</td>\n",
       "      <td>0.1</td>\n",
       "      <td>1</td>\n",
       "      <td>1</td>\n",
       "      <td>2</td>\n",
       "    </tr>\n",
       "    <tr>\n",
       "      <th>270</th>\n",
       "      <td>46</td>\n",
       "      <td>1</td>\n",
       "      <td>0</td>\n",
       "      <td>120</td>\n",
       "      <td>249</td>\n",
       "      <td>0</td>\n",
       "      <td>0</td>\n",
       "      <td>144</td>\n",
       "      <td>0</td>\n",
       "      <td>0.8</td>\n",
       "      <td>2</td>\n",
       "      <td>0</td>\n",
       "      <td>3</td>\n",
       "    </tr>\n",
       "    <tr>\n",
       "      <th>102</th>\n",
       "      <td>63</td>\n",
       "      <td>0</td>\n",
       "      <td>1</td>\n",
       "      <td>140</td>\n",
       "      <td>195</td>\n",
       "      <td>0</td>\n",
       "      <td>1</td>\n",
       "      <td>179</td>\n",
       "      <td>0</td>\n",
       "      <td>0.0</td>\n",
       "      <td>2</td>\n",
       "      <td>2</td>\n",
       "      <td>2</td>\n",
       "    </tr>\n",
       "  </tbody>\n",
       "</table>\n",
       "<p>242 rows × 13 columns</p>\n",
       "</div>"
      ],
      "text/plain": [
       "     age  sex  cp  trestbps  chol  fbs  restecg  thalach  exang  oldpeak  \\\n",
       "132   42    1   1       120   295    0        1      162      0      0.0   \n",
       "202   58    1   0       150   270    0        0      111      1      0.8   \n",
       "196   46    1   2       150   231    0        1      147      0      3.6   \n",
       "75    55    0   1       135   250    0        0      161      0      1.4   \n",
       "176   60    1   0       117   230    1        1      160      1      1.4   \n",
       "..   ...  ...  ..       ...   ...  ...      ...      ...    ...      ...   \n",
       "188   50    1   2       140   233    0        1      163      0      0.6   \n",
       "71    51    1   2        94   227    0        1      154      1      0.0   \n",
       "106   69    1   3       160   234    1        0      131      0      0.1   \n",
       "270   46    1   0       120   249    0        0      144      0      0.8   \n",
       "102   63    0   1       140   195    0        1      179      0      0.0   \n",
       "\n",
       "     slope  ca  thal  \n",
       "132      2   0     2  \n",
       "202      2   0     3  \n",
       "196      1   0     2  \n",
       "75       1   0     2  \n",
       "176      2   2     3  \n",
       "..     ...  ..   ...  \n",
       "188      1   1     3  \n",
       "71       2   1     3  \n",
       "106      1   1     2  \n",
       "270      2   0     3  \n",
       "102      2   2     2  \n",
       "\n",
       "[242 rows x 13 columns]"
      ]
     },
     "execution_count": 42,
     "metadata": {},
     "output_type": "execute_result"
    }
   ],
   "source": [
    "X_train"
   ]
  },
  {
   "cell_type": "code",
   "execution_count": 43,
   "id": "1f967f34",
   "metadata": {},
   "outputs": [
    {
     "data": {
      "text/plain": [
       "132    1\n",
       "202    0\n",
       "196    0\n",
       "75     1\n",
       "176    0\n",
       "      ..\n",
       "188    0\n",
       "71     1\n",
       "106    1\n",
       "270    0\n",
       "102    1\n",
       "Name: target, Length: 242, dtype: int64"
      ]
     },
     "execution_count": 43,
     "metadata": {},
     "output_type": "execute_result"
    }
   ],
   "source": [
    "y_train"
   ]
  },
  {
   "cell_type": "markdown",
   "id": "a87f90b7",
   "metadata": {},
   "source": [
    "### 3 models:\n",
    "\n",
    "* Logistic regression\n",
    "* K neighbor\n",
    "* Ensemble"
   ]
  },
  {
   "cell_type": "code",
   "execution_count": 49,
   "id": "878df6f0",
   "metadata": {},
   "outputs": [],
   "source": [
    "models = {\"Logistic Regression\": LogisticRegression(),\"KNN\": KNeighborsClassifier(),\"Random Forest\":RandomForestClassifier()}\n",
    "\n",
    "def fit_and_score(models, X_train, X_test,y_train,y_test):\n",
    "    np.random.seed(42)\n",
    "    model_scores = {}\n",
    "    for name, model in models.items():\n",
    "        model.fit(X_train,y_train)\n",
    "        model_scores[name] = model.score(X_test, y_test)\n",
    "    return model_scores\n"
   ]
  },
  {
   "cell_type": "code",
   "execution_count": 50,
   "id": "9ce6d7ea",
   "metadata": {},
   "outputs": [
    {
     "name": "stderr",
     "output_type": "stream",
     "text": [
      "C:\\Users\\karti\\anaconda3\\lib\\site-packages\\sklearn\\linear_model\\_logistic.py:814: ConvergenceWarning: lbfgs failed to converge (status=1):\n",
      "STOP: TOTAL NO. of ITERATIONS REACHED LIMIT.\n",
      "\n",
      "Increase the number of iterations (max_iter) or scale the data as shown in:\n",
      "    https://scikit-learn.org/stable/modules/preprocessing.html\n",
      "Please also refer to the documentation for alternative solver options:\n",
      "    https://scikit-learn.org/stable/modules/linear_model.html#logistic-regression\n",
      "  n_iter_i = _check_optimize_result(\n",
      "C:\\Users\\karti\\anaconda3\\lib\\site-packages\\sklearn\\neighbors\\_classification.py:228: FutureWarning: Unlike other reduction functions (e.g. `skew`, `kurtosis`), the default behavior of `mode` typically preserves the axis it acts along. In SciPy 1.11.0, this behavior will change: the default value of `keepdims` will become False, the `axis` over which the statistic is taken will be eliminated, and the value None will no longer be accepted. Set `keepdims` to True or False to avoid this warning.\n",
      "  mode, _ = stats.mode(_y[neigh_ind, k], axis=1)\n"
     ]
    },
    {
     "data": {
      "text/plain": [
       "{'Logistic Regression': 0.8852459016393442,\n",
       " 'KNN': 0.6885245901639344,\n",
       " 'Random Forest': 0.8360655737704918}"
      ]
     },
     "execution_count": 50,
     "metadata": {},
     "output_type": "execute_result"
    }
   ],
   "source": [
    "scores = fit_and_score(models,X_train, X_test,y_train,y_test)\n",
    "scores"
   ]
  },
  {
   "cell_type": "code",
   "execution_count": 53,
   "id": "889666dc",
   "metadata": {},
   "outputs": [
    {
     "data": {
      "text/plain": [
       "<AxesSubplot:>"
      ]
     },
     "execution_count": 53,
     "metadata": {},
     "output_type": "execute_result"
    },
    {
     "data": {
      "image/png": "[encoded data removed]",
      "text/plain": [
       "<Figure size 640x480 with 1 Axes>"
      ]
     },
     "metadata": {},
     "output_type": "display_data"
    }
   ],
   "source": [
    "model_compare = pd.DataFrame(scores, index = [\"accuracy\"])\n",
    "model_compare.T.plot.bar()"
   ]
  },
  {
   "cell_type": "markdown",
   "id": "d663d2eb",
   "metadata": {},
   "source": [
    "Logistic Regression model has outperformed random forest, by a fine margin.\n",
    "KNN is out."
   ]
  },
  {
   "cell_type": "markdown",
   "id": "9e4b74ea",
   "metadata": {},
   "source": [
    "## Hyper param tuning:"
   ]
  },
  {
   "cell_type": "code",
   "execution_count": 55,
   "id": "c83af84b",
   "metadata": {
    "scrolled": true
   },
   "outputs": [
    {
     "name": "stderr",
     "output_type": "stream",
     "text": [
      "C:\\Users\\karti\\anaconda3\\lib\\site-packages\\sklearn\\neighbors\\_classification.py:228: FutureWarning: Unlike other reduction functions (e.g. `skew`, `kurtosis`), the default behavior of `mode` typically preserves the axis it acts along. In SciPy 1.11.0, this behavior will change: the default value of `keepdims` will become False, the `axis` over which the statistic is taken will be eliminated, and the value None will no longer be accepted. Set `keepdims` to True or False to avoid this warning.\n",
      "  mode, _ = stats.mode(_y[neigh_ind, k], axis=1)\n",
      "C:\\Users\\karti\\anaconda3\\lib\\site-packages\\sklearn\\neighbors\\_classification.py:228: FutureWarning: Unlike other reduction functions (e.g. `skew`, `kurtosis`), the default behavior of `mode` typically preserves the axis it acts along. In SciPy 1.11.0, this behavior will change: the default value of `keepdims` will become False, the `axis` over which the statistic is taken will be eliminated, and the value None will no longer be accepted. Set `keepdims` to True or False to avoid this warning.\n",
      "  mode, _ = stats.mode(_y[neigh_ind, k], axis=1)\n",
      "C:\\Users\\karti\\anaconda3\\lib\\site-packages\\sklearn\\neighbors\\_classification.py:228: FutureWarning: Unlike other reduction functions (e.g. `skew`, `kurtosis`), the default behavior of `mode` typically preserves the axis it acts along. In SciPy 1.11.0, this behavior will change: the default value of `keepdims` will become False, the `axis` over which the statistic is taken will be eliminated, and the value None will no longer be accepted. Set `keepdims` to True or False to avoid this warning.\n",
      "  mode, _ = stats.mode(_y[neigh_ind, k], axis=1)\n",
      "C:\\Users\\karti\\anaconda3\\lib\\site-packages\\sklearn\\neighbors\\_classification.py:228: FutureWarning: Unlike other reduction functions (e.g. `skew`, `kurtosis`), the default behavior of `mode` typically preserves the axis it acts along. In SciPy 1.11.0, this behavior will change: the default value of `keepdims` will become False, the `axis` over which the statistic is taken will be eliminated, and the value None will no longer be accepted. Set `keepdims` to True or False to avoid this warning.\n",
      "  mode, _ = stats.mode(_y[neigh_ind, k], axis=1)\n",
      "C:\\Users\\karti\\anaconda3\\lib\\site-packages\\sklearn\\neighbors\\_classification.py:228: FutureWarning: Unlike other reduction functions (e.g. `skew`, `kurtosis`), the default behavior of `mode` typically preserves the axis it acts along. In SciPy 1.11.0, this behavior will change: the default value of `keepdims` will become False, the `axis` over which the statistic is taken will be eliminated, and the value None will no longer be accepted. Set `keepdims` to True or False to avoid this warning.\n",
      "  mode, _ = stats.mode(_y[neigh_ind, k], axis=1)\n",
      "C:\\Users\\karti\\anaconda3\\lib\\site-packages\\sklearn\\neighbors\\_classification.py:228: FutureWarning: Unlike other reduction functions (e.g. `skew`, `kurtosis`), the default behavior of `mode` typically preserves the axis it acts along. In SciPy 1.11.0, this behavior will change: the default value of `keepdims` will become False, the `axis` over which the statistic is taken will be eliminated, and the value None will no longer be accepted. Set `keepdims` to True or False to avoid this warning.\n",
      "  mode, _ = stats.mode(_y[neigh_ind, k], axis=1)\n",
      "C:\\Users\\karti\\anaconda3\\lib\\site-packages\\sklearn\\neighbors\\_classification.py:228: FutureWarning: Unlike other reduction functions (e.g. `skew`, `kurtosis`), the default behavior of `mode` typically preserves the axis it acts along. In SciPy 1.11.0, this behavior will change: the default value of `keepdims` will become False, the `axis` over which the statistic is taken will be eliminated, and the value None will no longer be accepted. Set `keepdims` to True or False to avoid this warning.\n",
      "  mode, _ = stats.mode(_y[neigh_ind, k], axis=1)\n",
      "C:\\Users\\karti\\anaconda3\\lib\\site-packages\\sklearn\\neighbors\\_classification.py:228: FutureWarning: Unlike other reduction functions (e.g. `skew`, `kurtosis`), the default behavior of `mode` typically preserves the axis it acts along. In SciPy 1.11.0, this behavior will change: the default value of `keepdims` will become False, the `axis` over which the statistic is taken will be eliminated, and the value None will no longer be accepted. Set `keepdims` to True or False to avoid this warning.\n",
      "  mode, _ = stats.mode(_y[neigh_ind, k], axis=1)\n",
      "C:\\Users\\karti\\anaconda3\\lib\\site-packages\\sklearn\\neighbors\\_classification.py:228: FutureWarning: Unlike other reduction functions (e.g. `skew`, `kurtosis`), the default behavior of `mode` typically preserves the axis it acts along. In SciPy 1.11.0, this behavior will change: the default value of `keepdims` will become False, the `axis` over which the statistic is taken will be eliminated, and the value None will no longer be accepted. Set `keepdims` to True or False to avoid this warning.\n",
      "  mode, _ = stats.mode(_y[neigh_ind, k], axis=1)\n",
      "C:\\Users\\karti\\anaconda3\\lib\\site-packages\\sklearn\\neighbors\\_classification.py:228: FutureWarning: Unlike other reduction functions (e.g. `skew`, `kurtosis`), the default behavior of `mode` typically preserves the axis it acts along. In SciPy 1.11.0, this behavior will change: the default value of `keepdims` will become False, the `axis` over which the statistic is taken will be eliminated, and the value None will no longer be accepted. Set `keepdims` to True or False to avoid this warning.\n",
      "  mode, _ = stats.mode(_y[neigh_ind, k], axis=1)\n",
      "C:\\Users\\karti\\anaconda3\\lib\\site-packages\\sklearn\\neighbors\\_classification.py:228: FutureWarning: Unlike other reduction functions (e.g. `skew`, `kurtosis`), the default behavior of `mode` typically preserves the axis it acts along. In SciPy 1.11.0, this behavior will change: the default value of `keepdims` will become False, the `axis` over which the statistic is taken will be eliminated, and the value None will no longer be accepted. Set `keepdims` to True or False to avoid this warning.\n",
      "  mode, _ = stats.mode(_y[neigh_ind, k], axis=1)\n",
      "C:\\Users\\karti\\anaconda3\\lib\\site-packages\\sklearn\\neighbors\\_classification.py:228: FutureWarning: Unlike other reduction functions (e.g. `skew`, `kurtosis`), the default behavior of `mode` typically preserves the axis it acts along. In SciPy 1.11.0, this behavior will change: the default value of `keepdims` will become False, the `axis` over which the statistic is taken will be eliminated, and the value None will no longer be accepted. Set `keepdims` to True or False to avoid this warning.\n",
      "  mode, _ = stats.mode(_y[neigh_ind, k], axis=1)\n",
      "C:\\Users\\karti\\anaconda3\\lib\\site-packages\\sklearn\\neighbors\\_classification.py:228: FutureWarning: Unlike other reduction functions (e.g. `skew`, `kurtosis`), the default behavior of `mode` typically preserves the axis it acts along. In SciPy 1.11.0, this behavior will change: the default value of `keepdims` will become False, the `axis` over which the statistic is taken will be eliminated, and the value None will no longer be accepted. Set `keepdims` to True or False to avoid this warning.\n",
      "  mode, _ = stats.mode(_y[neigh_ind, k], axis=1)\n",
      "C:\\Users\\karti\\anaconda3\\lib\\site-packages\\sklearn\\neighbors\\_classification.py:228: FutureWarning: Unlike other reduction functions (e.g. `skew`, `kurtosis`), the default behavior of `mode` typically preserves the axis it acts along. In SciPy 1.11.0, this behavior will change: the default value of `keepdims` will become False, the `axis` over which the statistic is taken will be eliminated, and the value None will no longer be accepted. Set `keepdims` to True or False to avoid this warning.\n",
      "  mode, _ = stats.mode(_y[neigh_ind, k], axis=1)\n",
      "C:\\Users\\karti\\anaconda3\\lib\\site-packages\\sklearn\\neighbors\\_classification.py:228: FutureWarning: Unlike other reduction functions (e.g. `skew`, `kurtosis`), the default behavior of `mode` typically preserves the axis it acts along. In SciPy 1.11.0, this behavior will change: the default value of `keepdims` will become False, the `axis` over which the statistic is taken will be eliminated, and the value None will no longer be accepted. Set `keepdims` to True or False to avoid this warning.\n",
      "  mode, _ = stats.mode(_y[neigh_ind, k], axis=1)\n",
      "C:\\Users\\karti\\anaconda3\\lib\\site-packages\\sklearn\\neighbors\\_classification.py:228: FutureWarning: Unlike other reduction functions (e.g. `skew`, `kurtosis`), the default behavior of `mode` typically preserves the axis it acts along. In SciPy 1.11.0, this behavior will change: the default value of `keepdims` will become False, the `axis` over which the statistic is taken will be eliminated, and the value None will no longer be accepted. Set `keepdims` to True or False to avoid this warning.\n",
      "  mode, _ = stats.mode(_y[neigh_ind, k], axis=1)\n",
      "C:\\Users\\karti\\anaconda3\\lib\\site-packages\\sklearn\\neighbors\\_classification.py:228: FutureWarning: Unlike other reduction functions (e.g. `skew`, `kurtosis`), the default behavior of `mode` typically preserves the axis it acts along. In SciPy 1.11.0, this behavior will change: the default value of `keepdims` will become False, the `axis` over which the statistic is taken will be eliminated, and the value None will no longer be accepted. Set `keepdims` to True or False to avoid this warning.\n",
      "  mode, _ = stats.mode(_y[neigh_ind, k], axis=1)\n",
      "C:\\Users\\karti\\anaconda3\\lib\\site-packages\\sklearn\\neighbors\\_classification.py:228: FutureWarning: Unlike other reduction functions (e.g. `skew`, `kurtosis`), the default behavior of `mode` typically preserves the axis it acts along. In SciPy 1.11.0, this behavior will change: the default value of `keepdims` will become False, the `axis` over which the statistic is taken will be eliminated, and the value None will no longer be accepted. Set `keepdims` to True or False to avoid this warning.\n",
      "  mode, _ = stats.mode(_y[neigh_ind, k], axis=1)\n",
      "C:\\Users\\karti\\anaconda3\\lib\\site-packages\\sklearn\\neighbors\\_classification.py:228: FutureWarning: Unlike other reduction functions (e.g. `skew`, `kurtosis`), the default behavior of `mode` typically preserves the axis it acts along. In SciPy 1.11.0, this behavior will change: the default value of `keepdims` will become False, the `axis` over which the statistic is taken will be eliminated, and the value None will no longer be accepted. Set `keepdims` to True or False to avoid this warning.\n",
      "  mode, _ = stats.mode(_y[neigh_ind, k], axis=1)\n",
      "C:\\Users\\karti\\anaconda3\\lib\\site-packages\\sklearn\\neighbors\\_classification.py:228: FutureWarning: Unlike other reduction functions (e.g. `skew`, `kurtosis`), the default behavior of `mode` typically preserves the axis it acts along. In SciPy 1.11.0, this behavior will change: the default value of `keepdims` will become False, the `axis` over which the statistic is taken will be eliminated, and the value None will no longer be accepted. Set `keepdims` to True or False to avoid this warning.\n",
      "  mode, _ = stats.mode(_y[neigh_ind, k], axis=1)\n",
      "C:\\Users\\karti\\anaconda3\\lib\\site-packages\\sklearn\\neighbors\\_classification.py:228: FutureWarning: Unlike other reduction functions (e.g. `skew`, `kurtosis`), the default behavior of `mode` typically preserves the axis it acts along. In SciPy 1.11.0, this behavior will change: the default value of `keepdims` will become False, the `axis` over which the statistic is taken will be eliminated, and the value None will no longer be accepted. Set `keepdims` to True or False to avoid this warning.\n",
      "  mode, _ = stats.mode(_y[neigh_ind, k], axis=1)\n",
      "C:\\Users\\karti\\anaconda3\\lib\\site-packages\\sklearn\\neighbors\\_classification.py:228: FutureWarning: Unlike other reduction functions (e.g. `skew`, `kurtosis`), the default behavior of `mode` typically preserves the axis it acts along. In SciPy 1.11.0, this behavior will change: the default value of `keepdims` will become False, the `axis` over which the statistic is taken will be eliminated, and the value None will no longer be accepted. Set `keepdims` to True or False to avoid this warning.\n",
      "  mode, _ = stats.mode(_y[neigh_ind, k], axis=1)\n",
      "C:\\Users\\karti\\anaconda3\\lib\\site-packages\\sklearn\\neighbors\\_classification.py:228: FutureWarning: Unlike other reduction functions (e.g. `skew`, `kurtosis`), the default behavior of `mode` typically preserves the axis it acts along. In SciPy 1.11.0, this behavior will change: the default value of `keepdims` will become False, the `axis` over which the statistic is taken will be eliminated, and the value None will no longer be accepted. Set `keepdims` to True or False to avoid this warning.\n",
      "  mode, _ = stats.mode(_y[neigh_ind, k], axis=1)\n",
      "C:\\Users\\karti\\anaconda3\\lib\\site-packages\\sklearn\\neighbors\\_classification.py:228: FutureWarning: Unlike other reduction functions (e.g. `skew`, `kurtosis`), the default behavior of `mode` typically preserves the axis it acts along. In SciPy 1.11.0, this behavior will change: the default value of `keepdims` will become False, the `axis` over which the statistic is taken will be eliminated, and the value None will no longer be accepted. Set `keepdims` to True or False to avoid this warning.\n",
      "  mode, _ = stats.mode(_y[neigh_ind, k], axis=1)\n",
      "C:\\Users\\karti\\anaconda3\\lib\\site-packages\\sklearn\\neighbors\\_classification.py:228: FutureWarning: Unlike other reduction functions (e.g. `skew`, `kurtosis`), the default behavior of `mode` typically preserves the axis it acts along. In SciPy 1.11.0, this behavior will change: the default value of `keepdims` will become False, the `axis` over which the statistic is taken will be eliminated, and the value None will no longer be accepted. Set `keepdims` to True or False to avoid this warning.\n",
      "  mode, _ = stats.mode(_y[neigh_ind, k], axis=1)\n",
      "C:\\Users\\karti\\anaconda3\\lib\\site-packages\\sklearn\\neighbors\\_classification.py:228: FutureWarning: Unlike other reduction functions (e.g. `skew`, `kurtosis`), the default behavior of `mode` typically preserves the axis it acts along. In SciPy 1.11.0, this behavior will change: the default value of `keepdims` will become False, the `axis` over which the statistic is taken will be eliminated, and the value None will no longer be accepted. Set `keepdims` to True or False to avoid this warning.\n",
      "  mode, _ = stats.mode(_y[neigh_ind, k], axis=1)\n",
      "C:\\Users\\karti\\anaconda3\\lib\\site-packages\\sklearn\\neighbors\\_classification.py:228: FutureWarning: Unlike other reduction functions (e.g. `skew`, `kurtosis`), the default behavior of `mode` typically preserves the axis it acts along. In SciPy 1.11.0, this behavior will change: the default value of `keepdims` will become False, the `axis` over which the statistic is taken will be eliminated, and the value None will no longer be accepted. Set `keepdims` to True or False to avoid this warning.\n",
      "  mode, _ = stats.mode(_y[neigh_ind, k], axis=1)\n",
      "C:\\Users\\karti\\anaconda3\\lib\\site-packages\\sklearn\\neighbors\\_classification.py:228: FutureWarning: Unlike other reduction functions (e.g. `skew`, `kurtosis`), the default behavior of `mode` typically preserves the axis it acts along. In SciPy 1.11.0, this behavior will change: the default value of `keepdims` will become False, the `axis` over which the statistic is taken will be eliminated, and the value None will no longer be accepted. Set `keepdims` to True or False to avoid this warning.\n",
      "  mode, _ = stats.mode(_y[neigh_ind, k], axis=1)\n",
      "C:\\Users\\karti\\anaconda3\\lib\\site-packages\\sklearn\\neighbors\\_classification.py:228: FutureWarning: Unlike other reduction functions (e.g. `skew`, `kurtosis`), the default behavior of `mode` typically preserves the axis it acts along. In SciPy 1.11.0, this behavior will change: the default value of `keepdims` will become False, the `axis` over which the statistic is taken will be eliminated, and the value None will no longer be accepted. Set `keepdims` to True or False to avoid this warning.\n",
      "  mode, _ = stats.mode(_y[neigh_ind, k], axis=1)\n",
      "C:\\Users\\karti\\anaconda3\\lib\\site-packages\\sklearn\\neighbors\\_classification.py:228: FutureWarning: Unlike other reduction functions (e.g. `skew`, `kurtosis`), the default behavior of `mode` typically preserves the axis it acts along. In SciPy 1.11.0, this behavior will change: the default value of `keepdims` will become False, the `axis` over which the statistic is taken will be eliminated, and the value None will no longer be accepted. Set `keepdims` to True or False to avoid this warning.\n",
      "  mode, _ = stats.mode(_y[neigh_ind, k], axis=1)\n",
      "C:\\Users\\karti\\anaconda3\\lib\\site-packages\\sklearn\\neighbors\\_classification.py:228: FutureWarning: Unlike other reduction functions (e.g. `skew`, `kurtosis`), the default behavior of `mode` typically preserves the axis it acts along. In SciPy 1.11.0, this behavior will change: the default value of `keepdims` will become False, the `axis` over which the statistic is taken will be eliminated, and the value None will no longer be accepted. Set `keepdims` to True or False to avoid this warning.\n",
      "  mode, _ = stats.mode(_y[neigh_ind, k], axis=1)\n",
      "C:\\Users\\karti\\anaconda3\\lib\\site-packages\\sklearn\\neighbors\\_classification.py:228: FutureWarning: Unlike other reduction functions (e.g. `skew`, `kurtosis`), the default behavior of `mode` typically preserves the axis it acts along. In SciPy 1.11.0, this behavior will change: the default value of `keepdims` will become False, the `axis` over which the statistic is taken will be eliminated, and the value None will no longer be accepted. Set `keepdims` to True or False to avoid this warning.\n",
      "  mode, _ = stats.mode(_y[neigh_ind, k], axis=1)\n",
      "C:\\Users\\karti\\anaconda3\\lib\\site-packages\\sklearn\\neighbors\\_classification.py:228: FutureWarning: Unlike other reduction functions (e.g. `skew`, `kurtosis`), the default behavior of `mode` typically preserves the axis it acts along. In SciPy 1.11.0, this behavior will change: the default value of `keepdims` will become False, the `axis` over which the statistic is taken will be eliminated, and the value None will no longer be accepted. Set `keepdims` to True or False to avoid this warning.\n",
      "  mode, _ = stats.mode(_y[neigh_ind, k], axis=1)\n",
      "C:\\Users\\karti\\anaconda3\\lib\\site-packages\\sklearn\\neighbors\\_classification.py:228: FutureWarning: Unlike other reduction functions (e.g. `skew`, `kurtosis`), the default behavior of `mode` typically preserves the axis it acts along. In SciPy 1.11.0, this behavior will change: the default value of `keepdims` will become False, the `axis` over which the statistic is taken will be eliminated, and the value None will no longer be accepted. Set `keepdims` to True or False to avoid this warning.\n",
      "  mode, _ = stats.mode(_y[neigh_ind, k], axis=1)\n",
      "C:\\Users\\karti\\anaconda3\\lib\\site-packages\\sklearn\\neighbors\\_classification.py:228: FutureWarning: Unlike other reduction functions (e.g. `skew`, `kurtosis`), the default behavior of `mode` typically preserves the axis it acts along. In SciPy 1.11.0, this behavior will change: the default value of `keepdims` will become False, the `axis` over which the statistic is taken will be eliminated, and the value None will no longer be accepted. Set `keepdims` to True or False to avoid this warning.\n",
      "  mode, _ = stats.mode(_y[neigh_ind, k], axis=1)\n",
      "C:\\Users\\karti\\anaconda3\\lib\\site-packages\\sklearn\\neighbors\\_classification.py:228: FutureWarning: Unlike other reduction functions (e.g. `skew`, `kurtosis`), the default behavior of `mode` typically preserves the axis it acts along. In SciPy 1.11.0, this behavior will change: the default value of `keepdims` will become False, the `axis` over which the statistic is taken will be eliminated, and the value None will no longer be accepted. Set `keepdims` to True or False to avoid this warning.\n",
      "  mode, _ = stats.mode(_y[neigh_ind, k], axis=1)\n",
      "C:\\Users\\karti\\anaconda3\\lib\\site-packages\\sklearn\\neighbors\\_classification.py:228: FutureWarning: Unlike other reduction functions (e.g. `skew`, `kurtosis`), the default behavior of `mode` typically preserves the axis it acts along. In SciPy 1.11.0, this behavior will change: the default value of `keepdims` will become False, the `axis` over which the statistic is taken will be eliminated, and the value None will no longer be accepted. Set `keepdims` to True or False to avoid this warning.\n",
      "  mode, _ = stats.mode(_y[neigh_ind, k], axis=1)\n",
      "C:\\Users\\karti\\anaconda3\\lib\\site-packages\\sklearn\\neighbors\\_classification.py:228: FutureWarning: Unlike other reduction functions (e.g. `skew`, `kurtosis`), the default behavior of `mode` typically preserves the axis it acts along. In SciPy 1.11.0, this behavior will change: the default value of `keepdims` will become False, the `axis` over which the statistic is taken will be eliminated, and the value None will no longer be accepted. Set `keepdims` to True or False to avoid this warning.\n",
      "  mode, _ = stats.mode(_y[neigh_ind, k], axis=1)\n",
      "C:\\Users\\karti\\anaconda3\\lib\\site-packages\\sklearn\\neighbors\\_classification.py:228: FutureWarning: Unlike other reduction functions (e.g. `skew`, `kurtosis`), the default behavior of `mode` typically preserves the axis it acts along. In SciPy 1.11.0, this behavior will change: the default value of `keepdims` will become False, the `axis` over which the statistic is taken will be eliminated, and the value None will no longer be accepted. Set `keepdims` to True or False to avoid this warning.\n",
      "  mode, _ = stats.mode(_y[neigh_ind, k], axis=1)\n",
      "C:\\Users\\karti\\anaconda3\\lib\\site-packages\\sklearn\\neighbors\\_classification.py:228: FutureWarning: Unlike other reduction functions (e.g. `skew`, `kurtosis`), the default behavior of `mode` typically preserves the axis it acts along. In SciPy 1.11.0, this behavior will change: the default value of `keepdims` will become False, the `axis` over which the statistic is taken will be eliminated, and the value None will no longer be accepted. Set `keepdims` to True or False to avoid this warning.\n",
      "  mode, _ = stats.mode(_y[neigh_ind, k], axis=1)\n"
     ]
    }
   ],
   "source": [
    "# KNN:\n",
    "\n",
    "train_scores = []\n",
    "test_scores = []\n",
    "\n",
    "# create a list of different n_neighbors\n",
    "neighbors = range(1,21)\n",
    "\n",
    "knn = KNeighborsClassifier()\n",
    "\n",
    "for i in neighbors:\n",
    "    knn.set_params(n_neighbors = i)\n",
    "    knn.fit(X_train, y_train)\n",
    "    train_scores.append(knn.score(X_train, y_train))\n",
    "    test_scores.append(knn.score(X_test, y_test))\n",
    "    "
   ]
  },
  {
   "cell_type": "code",
   "execution_count": 56,
   "id": "895df9fa",
   "metadata": {},
   "outputs": [
    {
     "data": {
      "text/plain": [
       "[1.0,\n",
       " 0.8099173553719008,\n",
       " 0.7727272727272727,\n",
       " 0.743801652892562,\n",
       " 0.7603305785123967,\n",
       " 0.7520661157024794,\n",
       " 0.743801652892562,\n",
       " 0.7231404958677686,\n",
       " 0.71900826446281,\n",
       " 0.6942148760330579,\n",
       " 0.7272727272727273,\n",
       " 0.6983471074380165,\n",
       " 0.6900826446280992,\n",
       " 0.6942148760330579,\n",
       " 0.6859504132231405,\n",
       " 0.6735537190082644,\n",
       " 0.6859504132231405,\n",
       " 0.6652892561983471,\n",
       " 0.6818181818181818,\n",
       " 0.6694214876033058]"
      ]
     },
     "execution_count": 56,
     "metadata": {},
     "output_type": "execute_result"
    }
   ],
   "source": [
    "train_scores"
   ]
  },
  {
   "cell_type": "code",
   "execution_count": 57,
   "id": "3924bb93",
   "metadata": {},
   "outputs": [
    {
     "data": {
      "text/plain": [
       "[0.6229508196721312,\n",
       " 0.639344262295082,\n",
       " 0.6557377049180327,\n",
       " 0.6721311475409836,\n",
       " 0.6885245901639344,\n",
       " 0.7213114754098361,\n",
       " 0.7049180327868853,\n",
       " 0.6885245901639344,\n",
       " 0.6885245901639344,\n",
       " 0.7049180327868853,\n",
       " 0.7540983606557377,\n",
       " 0.7377049180327869,\n",
       " 0.7377049180327869,\n",
       " 0.7377049180327869,\n",
       " 0.6885245901639344,\n",
       " 0.7213114754098361,\n",
       " 0.6885245901639344,\n",
       " 0.6885245901639344,\n",
       " 0.7049180327868853,\n",
       " 0.6557377049180327]"
      ]
     },
     "execution_count": 57,
     "metadata": {},
     "output_type": "execute_result"
    }
   ],
   "source": [
    "test_scores"
   ]
  },
  {
   "cell_type": "code",
   "execution_count": 125,
   "id": "88951d7e",
   "metadata": {},
   "outputs": [
    {
     "name": "stdout",
     "output_type": "stream",
     "text": [
      "maximum knn can score on the test data: 75.41%\n"
     ]
    },
    {
     "data": {
      "image/png": "[encoded data removed]",
      "text/plain": [
       "<Figure size 640x480 with 1 Axes>"
      ]
     },
     "metadata": {},
     "output_type": "display_data"
    }
   ],
   "source": [
    "plt.plot(neighbors, train_scores, label=\"Train scores\")\n",
    "plt.plot(neighbors, test_scores, label=\"Test scores\")\n",
    "plt.xticks(np.arange(1,21,1))\n",
    "plt.xlabel(\"number of neigh\")\n",
    "plt.ylabel(\"model score\")\n",
    "plt.legend()\n",
    "print(f\"maximum knn can score on the test data: {max(test_scores)*100:.2f}%\")"
   ]
  },
  {
   "cell_type": "markdown",
   "id": "d2c40bda",
   "metadata": {},
   "source": [
    "## Hyper param with Randomized Search CV\n",
    "\n",
    "Logistic regression and random forest using randomized search cv:"
   ]
  },
  {
   "cell_type": "code",
   "execution_count": 73,
   "id": "20d54c13",
   "metadata": {},
   "outputs": [],
   "source": [
    "# create a hyper param grid for logistic regression:\n",
    "log_reg_grid = {\"C\": np.logspace(-4,4,20),\n",
    "                \"solver\":[\"liblinear\"]}\n",
    "\n",
    "\n",
    "# create hyper grid for random forest:\n",
    "rf_grid = {\"n_estimators\": np.arange(10,1000,50),\n",
    "           \"max_depth\": [None, 3, 5, 10],\n",
    "           \"min_samples_split\": np.arange(2,20,2),\n",
    "           \"min_samples_leaf\": np.arange(1,20,2)}"
   ]
  },
  {
   "cell_type": "code",
   "execution_count": 69,
   "id": "aef17843",
   "metadata": {},
   "outputs": [
    {
     "name": "stdout",
     "output_type": "stream",
     "text": [
      "Fitting 5 folds for each of 20 candidates, totalling 100 fits\n",
      "[CV] END .........................C=0.0001, solver=liblinear; total time=   0.0s\n",
      "[CV] END .........................C=0.0001, solver=liblinear; total time=   0.0s\n",
      "[CV] END .........................C=0.0001, solver=liblinear; total time=   0.0s\n",
      "[CV] END .........................C=0.0001, solver=liblinear; total time=   0.0s\n",
      "[CV] END .........................C=0.0001, solver=liblinear; total time=   0.0s\n",
      "[CV] END .........C=0.00026366508987303583, solver=liblinear; total time=   0.0s\n",
      "[CV] END .........C=0.00026366508987303583, solver=liblinear; total time=   0.0s\n",
      "[CV] END .........C=0.00026366508987303583, solver=liblinear; total time=   0.0s\n",
      "[CV] END .........C=0.00026366508987303583, solver=liblinear; total time=   0.0s\n",
      "[CV] END .........C=0.00026366508987303583, solver=liblinear; total time=   0.0s\n",
      "[CV] END ..........C=0.0006951927961775605, solver=liblinear; total time=   0.0s\n",
      "[CV] END ..........C=0.0006951927961775605, solver=liblinear; total time=   0.0s\n",
      "[CV] END ..........C=0.0006951927961775605, solver=liblinear; total time=   0.0s\n",
      "[CV] END ..........C=0.0006951927961775605, solver=liblinear; total time=   0.0s\n",
      "[CV] END ..........C=0.0006951927961775605, solver=liblinear; total time=   0.0s\n",
      "[CV] END ..........C=0.0018329807108324356, solver=liblinear; total time=   0.0s\n",
      "[CV] END ..........C=0.0018329807108324356, solver=liblinear; total time=   0.0s\n",
      "[CV] END ..........C=0.0018329807108324356, solver=liblinear; total time=   0.0s\n",
      "[CV] END ..........C=0.0018329807108324356, solver=liblinear; total time=   0.0s\n",
      "[CV] END ..........C=0.0018329807108324356, solver=liblinear; total time=   0.0s\n",
      "[CV] END ...........C=0.004832930238571752, solver=liblinear; total time=   0.0s\n",
      "[CV] END ...........C=0.004832930238571752, solver=liblinear; total time=   0.0s\n",
      "[CV] END ...........C=0.004832930238571752, solver=liblinear; total time=   0.0s\n",
      "[CV] END ...........C=0.004832930238571752, solver=liblinear; total time=   0.0s\n",
      "[CV] END ...........C=0.004832930238571752, solver=liblinear; total time=   0.0s\n",
      "[CV] END ...........C=0.012742749857031334, solver=liblinear; total time=   0.0s\n",
      "[CV] END ...........C=0.012742749857031334, solver=liblinear; total time=   0.0s\n",
      "[CV] END ...........C=0.012742749857031334, solver=liblinear; total time=   0.0s\n",
      "[CV] END ...........C=0.012742749857031334, solver=liblinear; total time=   0.0s\n",
      "[CV] END ...........C=0.012742749857031334, solver=liblinear; total time=   0.0s\n",
      "[CV] END ............C=0.03359818286283781, solver=liblinear; total time=   0.0s\n",
      "[CV] END ............C=0.03359818286283781, solver=liblinear; total time=   0.0s\n",
      "[CV] END ............C=0.03359818286283781, solver=liblinear; total time=   0.0s\n",
      "[CV] END ............C=0.03359818286283781, solver=liblinear; total time=   0.0s\n",
      "[CV] END ............C=0.03359818286283781, solver=liblinear; total time=   0.0s\n",
      "[CV] END ............C=0.08858667904100823, solver=liblinear; total time=   0.0s\n",
      "[CV] END ............C=0.08858667904100823, solver=liblinear; total time=   0.0s\n",
      "[CV] END ............C=0.08858667904100823, solver=liblinear; total time=   0.0s\n",
      "[CV] END ............C=0.08858667904100823, solver=liblinear; total time=   0.0s\n",
      "[CV] END ............C=0.08858667904100823, solver=liblinear; total time=   0.0s\n",
      "[CV] END ............C=0.23357214690901212, solver=liblinear; total time=   0.0s\n",
      "[CV] END ............C=0.23357214690901212, solver=liblinear; total time=   0.0s\n",
      "[CV] END ............C=0.23357214690901212, solver=liblinear; total time=   0.0s\n",
      "[CV] END ............C=0.23357214690901212, solver=liblinear; total time=   0.0s\n",
      "[CV] END ............C=0.23357214690901212, solver=liblinear; total time=   0.0s\n",
      "[CV] END ..............C=0.615848211066026, solver=liblinear; total time=   0.0s\n",
      "[CV] END ..............C=0.615848211066026, solver=liblinear; total time=   0.0s\n",
      "[CV] END ..............C=0.615848211066026, solver=liblinear; total time=   0.0s\n",
      "[CV] END ..............C=0.615848211066026, solver=liblinear; total time=   0.0s\n",
      "[CV] END ..............C=0.615848211066026, solver=liblinear; total time=   0.0s\n",
      "[CV] END ..............C=1.623776739188721, solver=liblinear; total time=   0.0s\n",
      "[CV] END ..............C=1.623776739188721, solver=liblinear; total time=   0.0s\n",
      "[CV] END ..............C=1.623776739188721, solver=liblinear; total time=   0.0s\n",
      "[CV] END ..............C=1.623776739188721, solver=liblinear; total time=   0.0s\n",
      "[CV] END ..............C=1.623776739188721, solver=liblinear; total time=   0.0s\n",
      "[CV] END ..............C=4.281332398719396, solver=liblinear; total time=   0.0s\n",
      "[CV] END ..............C=4.281332398719396, solver=liblinear; total time=   0.0s\n",
      "[CV] END ..............C=4.281332398719396, solver=liblinear; total time=   0.0s\n",
      "[CV] END ..............C=4.281332398719396, solver=liblinear; total time=   0.0s\n",
      "[CV] END ..............C=4.281332398719396, solver=liblinear; total time=   0.0s\n",
      "[CV] END .............C=11.288378916846883, solver=liblinear; total time=   0.0s\n",
      "[CV] END .............C=11.288378916846883, solver=liblinear; total time=   0.0s\n",
      "[CV] END .............C=11.288378916846883, solver=liblinear; total time=   0.0s\n",
      "[CV] END .............C=11.288378916846883, solver=liblinear; total time=   0.0s\n",
      "[CV] END .............C=11.288378916846883, solver=liblinear; total time=   0.0s\n",
      "[CV] END .............C=29.763514416313132, solver=liblinear; total time=   0.0s\n",
      "[CV] END .............C=29.763514416313132, solver=liblinear; total time=   0.0s\n",
      "[CV] END .............C=29.763514416313132, solver=liblinear; total time=   0.0s\n",
      "[CV] END .............C=29.763514416313132, solver=liblinear; total time=   0.0s\n",
      "[CV] END .............C=29.763514416313132, solver=liblinear; total time=   0.0s\n",
      "[CV] END ..............C=78.47599703514607, solver=liblinear; total time=   0.0s\n",
      "[CV] END ..............C=78.47599703514607, solver=liblinear; total time=   0.0s\n",
      "[CV] END ..............C=78.47599703514607, solver=liblinear; total time=   0.0s\n",
      "[CV] END ..............C=78.47599703514607, solver=liblinear; total time=   0.0s\n",
      "[CV] END ..............C=78.47599703514607, solver=liblinear; total time=   0.0s\n",
      "[CV] END ...............C=206.913808111479, solver=liblinear; total time=   0.0s\n",
      "[CV] END ...............C=206.913808111479, solver=liblinear; total time=   0.0s\n",
      "[CV] END ...............C=206.913808111479, solver=liblinear; total time=   0.0s\n",
      "[CV] END ...............C=206.913808111479, solver=liblinear; total time=   0.0s\n",
      "[CV] END ...............C=206.913808111479, solver=liblinear; total time=   0.0s\n",
      "[CV] END ..............C=545.5594781168514, solver=liblinear; total time=   0.0s\n",
      "[CV] END ..............C=545.5594781168514, solver=liblinear; total time=   0.0s\n",
      "[CV] END ..............C=545.5594781168514, solver=liblinear; total time=   0.0s\n",
      "[CV] END ..............C=545.5594781168514, solver=liblinear; total time=   0.0s\n",
      "[CV] END ..............C=545.5594781168514, solver=liblinear; total time=   0.0s\n",
      "[CV] END ...............C=1438.44988828766, solver=liblinear; total time=   0.0s\n",
      "[CV] END ...............C=1438.44988828766, solver=liblinear; total time=   0.0s\n",
      "[CV] END ...............C=1438.44988828766, solver=liblinear; total time=   0.0s\n",
      "[CV] END ...............C=1438.44988828766, solver=liblinear; total time=   0.0s\n",
      "[CV] END ...............C=1438.44988828766, solver=liblinear; total time=   0.0s\n",
      "[CV] END ..............C=3792.690190732246, solver=liblinear; total time=   0.0s\n",
      "[CV] END ..............C=3792.690190732246, solver=liblinear; total time=   0.0s\n",
      "[CV] END ..............C=3792.690190732246, solver=liblinear; total time=   0.0s\n",
      "[CV] END ..............C=3792.690190732246, solver=liblinear; total time=   0.0s\n",
      "[CV] END ..............C=3792.690190732246, solver=liblinear; total time=   0.0s\n",
      "[CV] END ........................C=10000.0, solver=liblinear; total time=   0.0s\n",
      "[CV] END ........................C=10000.0, solver=liblinear; total time=   0.0s\n",
      "[CV] END ........................C=10000.0, solver=liblinear; total time=   0.0s\n",
      "[CV] END ........................C=10000.0, solver=liblinear; total time=   0.0s\n",
      "[CV] END ........................C=10000.0, solver=liblinear; total time=   0.0s\n"
     ]
    },
    {
     "data": {
      "text/plain": [
       "RandomizedSearchCV(cv=5, estimator=LogisticRegression(), n_iter=20,\n",
       "                   param_distributions={'C': array([1.00000000e-04, 2.63665090e-04, 6.95192796e-04, 1.83298071e-03,\n",
       "       4.83293024e-03, 1.27427499e-02, 3.35981829e-02, 8.85866790e-02,\n",
       "       2.33572147e-01, 6.15848211e-01, 1.62377674e+00, 4.28133240e+00,\n",
       "       1.12883789e+01, 2.97635144e+01, 7.84759970e+01, 2.06913808e+02,\n",
       "       5.45559478e+02, 1.43844989e+03, 3.79269019e+03, 1.00000000e+04]),\n",
       "                                        'solver': ['liblinear']},\n",
       "                   verbose=2)"
      ]
     },
     "execution_count": 69,
     "metadata": {},
     "output_type": "execute_result"
    }
   ],
   "source": [
    "np.random.seed(42)\n",
    "rs_lr = RandomizedSearchCV(LogisticRegression(), param_distributions=log_reg_grid, cv=5, n_iter=20, verbose=2)\n",
    "\n",
    "rs_lr.fit(X_train,y_train)"
   ]
  },
  {
   "cell_type": "code",
   "execution_count": 70,
   "id": "2f722686",
   "metadata": {},
   "outputs": [
    {
     "data": {
      "text/plain": [
       "{'solver': 'liblinear', 'C': 0.23357214690901212}"
      ]
     },
     "execution_count": 70,
     "metadata": {},
     "output_type": "execute_result"
    }
   ],
   "source": [
    "rs_lr.best_params_"
   ]
  },
  {
   "cell_type": "code",
   "execution_count": 71,
   "id": "2613882b",
   "metadata": {},
   "outputs": [
    {
     "data": {
      "text/plain": [
       "0.8852459016393442"
      ]
     },
     "execution_count": 71,
     "metadata": {},
     "output_type": "execute_result"
    }
   ],
   "source": [
    "rs_lr.score(X_test,y_test)"
   ]
  },
  {
   "cell_type": "code",
   "execution_count": 74,
   "id": "f82d31f9",
   "metadata": {
    "scrolled": true
   },
   "outputs": [
    {
     "name": "stdout",
     "output_type": "stream",
     "text": [
      "Fitting 5 folds for each of 20 candidates, totalling 100 fits\n",
      "[CV] END max_depth=None, min_samples_leaf=9, min_samples_split=16, n_estimators=10; total time=   0.0s\n",
      "[CV] END max_depth=None, min_samples_leaf=9, min_samples_split=16, n_estimators=10; total time=   0.0s\n",
      "[CV] END max_depth=None, min_samples_leaf=9, min_samples_split=16, n_estimators=10; total time=   0.0s\n",
      "[CV] END max_depth=None, min_samples_leaf=9, min_samples_split=16, n_estimators=10; total time=   0.0s\n",
      "[CV] END max_depth=None, min_samples_leaf=9, min_samples_split=16, n_estimators=10; total time=   0.0s\n",
      "[CV] END max_depth=5, min_samples_leaf=19, min_samples_split=18, n_estimators=510; total time=   1.7s\n",
      "[CV] END max_depth=5, min_samples_leaf=19, min_samples_split=18, n_estimators=510; total time=   1.6s\n",
      "[CV] END max_depth=5, min_samples_leaf=19, min_samples_split=18, n_estimators=510; total time=   1.6s\n",
      "[CV] END max_depth=5, min_samples_leaf=19, min_samples_split=18, n_estimators=510; total time=   1.6s\n",
      "[CV] END max_depth=5, min_samples_leaf=19, min_samples_split=18, n_estimators=510; total time=   1.6s\n",
      "[CV] END max_depth=5, min_samples_leaf=19, min_samples_split=2, n_estimators=310; total time=   0.9s\n",
      "[CV] END max_depth=5, min_samples_leaf=19, min_samples_split=2, n_estimators=310; total time=   0.9s\n",
      "[CV] END max_depth=5, min_samples_leaf=19, min_samples_split=2, n_estimators=310; total time=   0.9s\n",
      "[CV] END max_depth=5, min_samples_leaf=19, min_samples_split=2, n_estimators=310; total time=   0.9s\n",
      "[CV] END max_depth=5, min_samples_leaf=19, min_samples_split=2, n_estimators=310; total time=   0.9s\n",
      "[CV] END max_depth=5, min_samples_leaf=17, min_samples_split=16, n_estimators=560; total time=   1.8s\n",
      "[CV] END max_depth=5, min_samples_leaf=17, min_samples_split=16, n_estimators=560; total time=   1.8s\n",
      "[CV] END max_depth=5, min_samples_leaf=17, min_samples_split=16, n_estimators=560; total time=   1.8s\n",
      "[CV] END max_depth=5, min_samples_leaf=17, min_samples_split=16, n_estimators=560; total time=   1.8s\n",
      "[CV] END max_depth=5, min_samples_leaf=17, min_samples_split=16, n_estimators=560; total time=   1.8s\n",
      "[CV] END max_depth=5, min_samples_leaf=1, min_samples_split=18, n_estimators=610; total time=   2.1s\n",
      "[CV] END max_depth=5, min_samples_leaf=1, min_samples_split=18, n_estimators=610; total time=   2.1s\n",
      "[CV] END max_depth=5, min_samples_leaf=1, min_samples_split=18, n_estimators=610; total time=   2.0s\n",
      "[CV] END max_depth=5, min_samples_leaf=1, min_samples_split=18, n_estimators=610; total time=   2.0s\n",
      "[CV] END max_depth=5, min_samples_leaf=1, min_samples_split=18, n_estimators=610; total time=   2.0s\n",
      "[CV] END max_depth=3, min_samples_leaf=15, min_samples_split=4, n_estimators=610; total time=   2.0s\n",
      "[CV] END max_depth=3, min_samples_leaf=15, min_samples_split=4, n_estimators=610; total time=   2.0s\n",
      "[CV] END max_depth=3, min_samples_leaf=15, min_samples_split=4, n_estimators=610; total time=   2.1s\n",
      "[CV] END max_depth=3, min_samples_leaf=15, min_samples_split=4, n_estimators=610; total time=   2.0s\n",
      "[CV] END max_depth=3, min_samples_leaf=15, min_samples_split=4, n_estimators=610; total time=   2.0s\n",
      "[CV] END max_depth=10, min_samples_leaf=3, min_samples_split=16, n_estimators=710; total time=   2.4s\n",
      "[CV] END max_depth=10, min_samples_leaf=3, min_samples_split=16, n_estimators=710; total time=   2.4s\n",
      "[CV] END max_depth=10, min_samples_leaf=3, min_samples_split=16, n_estimators=710; total time=   2.4s\n",
      "[CV] END max_depth=10, min_samples_leaf=3, min_samples_split=16, n_estimators=710; total time=   2.4s\n",
      "[CV] END max_depth=10, min_samples_leaf=3, min_samples_split=16, n_estimators=710; total time=   2.3s\n",
      "[CV] END max_depth=10, min_samples_leaf=9, min_samples_split=16, n_estimators=260; total time=   0.8s\n",
      "[CV] END max_depth=10, min_samples_leaf=9, min_samples_split=16, n_estimators=260; total time=   0.8s\n",
      "[CV] END max_depth=10, min_samples_leaf=9, min_samples_split=16, n_estimators=260; total time=   0.9s\n",
      "[CV] END max_depth=10, min_samples_leaf=9, min_samples_split=16, n_estimators=260; total time=   0.8s\n",
      "[CV] END max_depth=10, min_samples_leaf=9, min_samples_split=16, n_estimators=260; total time=   0.8s\n",
      "[CV] END max_depth=None, min_samples_leaf=5, min_samples_split=12, n_estimators=310; total time=   1.0s\n",
      "[CV] END max_depth=None, min_samples_leaf=5, min_samples_split=12, n_estimators=310; total time=   1.0s\n",
      "[CV] END max_depth=None, min_samples_leaf=5, min_samples_split=12, n_estimators=310; total time=   1.1s\n",
      "[CV] END max_depth=None, min_samples_leaf=5, min_samples_split=12, n_estimators=310; total time=   1.0s\n",
      "[CV] END max_depth=None, min_samples_leaf=5, min_samples_split=12, n_estimators=310; total time=   1.0s\n",
      "[CV] END max_depth=5, min_samples_leaf=19, min_samples_split=12, n_estimators=710; total time=   3.7s\n",
      "[CV] END max_depth=5, min_samples_leaf=19, min_samples_split=12, n_estimators=710; total time=   2.3s\n",
      "[CV] END max_depth=5, min_samples_leaf=19, min_samples_split=12, n_estimators=710; total time=   2.3s\n",
      "[CV] END max_depth=5, min_samples_leaf=19, min_samples_split=12, n_estimators=710; total time=   2.3s\n",
      "[CV] END max_depth=5, min_samples_leaf=19, min_samples_split=12, n_estimators=710; total time=   2.3s\n",
      "[CV] END max_depth=5, min_samples_leaf=9, min_samples_split=12, n_estimators=310; total time=   1.0s\n",
      "[CV] END max_depth=5, min_samples_leaf=9, min_samples_split=12, n_estimators=310; total time=   1.0s\n",
      "[CV] END max_depth=5, min_samples_leaf=9, min_samples_split=12, n_estimators=310; total time=   1.0s\n",
      "[CV] END max_depth=5, min_samples_leaf=9, min_samples_split=12, n_estimators=310; total time=   0.9s\n",
      "[CV] END max_depth=5, min_samples_leaf=9, min_samples_split=12, n_estimators=310; total time=   1.0s\n",
      "[CV] END max_depth=10, min_samples_leaf=1, min_samples_split=18, n_estimators=910; total time=   3.1s\n",
      "[CV] END max_depth=10, min_samples_leaf=1, min_samples_split=18, n_estimators=910; total time=   3.1s\n",
      "[CV] END max_depth=10, min_samples_leaf=1, min_samples_split=18, n_estimators=910; total time=   3.1s\n",
      "[CV] END max_depth=10, min_samples_leaf=1, min_samples_split=18, n_estimators=910; total time=   3.2s\n",
      "[CV] END max_depth=10, min_samples_leaf=1, min_samples_split=18, n_estimators=910; total time=   3.1s\n",
      "[CV] END max_depth=10, min_samples_leaf=9, min_samples_split=12, n_estimators=560; total time=   1.8s\n",
      "[CV] END max_depth=10, min_samples_leaf=9, min_samples_split=12, n_estimators=560; total time=   1.9s\n",
      "[CV] END max_depth=10, min_samples_leaf=9, min_samples_split=12, n_estimators=560; total time=   1.8s\n",
      "[CV] END max_depth=10, min_samples_leaf=9, min_samples_split=12, n_estimators=560; total time=   1.9s\n",
      "[CV] END max_depth=10, min_samples_leaf=9, min_samples_split=12, n_estimators=560; total time=   1.8s\n",
      "[CV] END max_depth=3, min_samples_leaf=19, min_samples_split=4, n_estimators=210; total time=   0.6s\n",
      "[CV] END max_depth=3, min_samples_leaf=19, min_samples_split=4, n_estimators=210; total time=   0.6s\n",
      "[CV] END max_depth=3, min_samples_leaf=19, min_samples_split=4, n_estimators=210; total time=   0.6s\n",
      "[CV] END max_depth=3, min_samples_leaf=19, min_samples_split=4, n_estimators=210; total time=   0.6s\n",
      "[CV] END max_depth=3, min_samples_leaf=19, min_samples_split=4, n_estimators=210; total time=   0.6s\n",
      "[CV] END max_depth=3, min_samples_leaf=15, min_samples_split=12, n_estimators=560; total time=   1.8s\n",
      "[CV] END max_depth=3, min_samples_leaf=15, min_samples_split=12, n_estimators=560; total time=   1.8s\n",
      "[CV] END max_depth=3, min_samples_leaf=15, min_samples_split=12, n_estimators=560; total time=   1.8s\n",
      "[CV] END max_depth=3, min_samples_leaf=15, min_samples_split=12, n_estimators=560; total time=   1.7s\n",
      "[CV] END max_depth=3, min_samples_leaf=15, min_samples_split=12, n_estimators=560; total time=   1.8s\n",
      "[CV] END max_depth=3, min_samples_leaf=13, min_samples_split=4, n_estimators=960; total time=   3.1s\n",
      "[CV] END max_depth=3, min_samples_leaf=13, min_samples_split=4, n_estimators=960; total time=   3.0s\n",
      "[CV] END max_depth=3, min_samples_leaf=13, min_samples_split=4, n_estimators=960; total time=   3.2s\n",
      "[CV] END max_depth=3, min_samples_leaf=13, min_samples_split=4, n_estimators=960; total time=   3.2s\n",
      "[CV] END max_depth=3, min_samples_leaf=13, min_samples_split=4, n_estimators=960; total time=   3.2s\n",
      "[CV] END max_depth=None, min_samples_leaf=1, min_samples_split=14, n_estimators=510; total time=   1.8s\n",
      "[CV] END max_depth=None, min_samples_leaf=1, min_samples_split=14, n_estimators=510; total time=   1.8s\n",
      "[CV] END max_depth=None, min_samples_leaf=1, min_samples_split=14, n_estimators=510; total time=   1.7s\n",
      "[CV] END max_depth=None, min_samples_leaf=1, min_samples_split=14, n_estimators=510; total time=   1.7s\n",
      "[CV] END max_depth=None, min_samples_leaf=1, min_samples_split=14, n_estimators=510; total time=   1.7s\n",
      "[CV] END max_depth=None, min_samples_leaf=19, min_samples_split=8, n_estimators=260; total time=   0.8s\n",
      "[CV] END max_depth=None, min_samples_leaf=19, min_samples_split=8, n_estimators=260; total time=   0.8s\n",
      "[CV] END max_depth=None, min_samples_leaf=19, min_samples_split=8, n_estimators=260; total time=   0.8s\n",
      "[CV] END max_depth=None, min_samples_leaf=19, min_samples_split=8, n_estimators=260; total time=   0.8s\n",
      "[CV] END max_depth=None, min_samples_leaf=19, min_samples_split=8, n_estimators=260; total time=   0.8s\n",
      "[CV] END max_depth=None, min_samples_leaf=9, min_samples_split=6, n_estimators=460; total time=   1.5s\n",
      "[CV] END max_depth=None, min_samples_leaf=9, min_samples_split=6, n_estimators=460; total time=   1.5s\n",
      "[CV] END max_depth=None, min_samples_leaf=9, min_samples_split=6, n_estimators=460; total time=   1.5s\n",
      "[CV] END max_depth=None, min_samples_leaf=9, min_samples_split=6, n_estimators=460; total time=   1.5s\n",
      "[CV] END max_depth=None, min_samples_leaf=9, min_samples_split=6, n_estimators=460; total time=   1.5s\n",
      "[CV] END max_depth=3, min_samples_leaf=7, min_samples_split=6, n_estimators=560; total time=   1.8s\n",
      "[CV] END max_depth=3, min_samples_leaf=7, min_samples_split=6, n_estimators=560; total time=   1.9s\n",
      "[CV] END max_depth=3, min_samples_leaf=7, min_samples_split=6, n_estimators=560; total time=   1.8s\n",
      "[CV] END max_depth=3, min_samples_leaf=7, min_samples_split=6, n_estimators=560; total time=   1.9s\n",
      "[CV] END max_depth=3, min_samples_leaf=7, min_samples_split=6, n_estimators=560; total time=   1.7s\n"
     ]
    },
    {
     "data": {
      "text/plain": [
       "RandomizedSearchCV(cv=5, estimator=RandomForestClassifier(), n_iter=20,\n",
       "                   param_distributions={'max_depth': [None, 3, 5, 10],\n",
       "                                        'min_samples_leaf': array([ 1,  3,  5,  7,  9, 11, 13, 15, 17, 19]),\n",
       "                                        'min_samples_split': array([ 2,  4,  6,  8, 10, 12, 14, 16, 18]),\n",
       "                                        'n_estimators': array([ 10,  60, 110, 160, 210, 260, 310, 360, 410, 460, 510, 560, 610,\n",
       "       660, 710, 760, 810, 860, 910, 960])},\n",
       "                   verbose=2)"
      ]
     },
     "execution_count": 74,
     "metadata": {},
     "output_type": "execute_result"
    }
   ],
   "source": [
    "np.random.seed(42)\n",
    "\n",
    "rs_rf = RandomizedSearchCV(RandomForestClassifier(), param_distributions=rf_grid, cv=5, n_iter=20, verbose=2)\n",
    "rs_rf.fit(X_train,y_train)"
   ]
  },
  {
   "cell_type": "code",
   "execution_count": 75,
   "id": "e4e4e436",
   "metadata": {},
   "outputs": [
    {
     "data": {
      "text/plain": [
       "{'n_estimators': 210,\n",
       " 'min_samples_split': 4,\n",
       " 'min_samples_leaf': 19,\n",
       " 'max_depth': 3}"
      ]
     },
     "execution_count": 75,
     "metadata": {},
     "output_type": "execute_result"
    }
   ],
   "source": [
    "rs_rf.best_params_"
   ]
  },
  {
   "cell_type": "code",
   "execution_count": 76,
   "id": "c0df0eae",
   "metadata": {},
   "outputs": [
    {
     "data": {
      "text/plain": [
       "0.8688524590163934"
      ]
     },
     "execution_count": 76,
     "metadata": {},
     "output_type": "execute_result"
    }
   ],
   "source": [
    "rs_rf.score(X_test,y_test)"
   ]
  },
  {
   "cell_type": "markdown",
   "id": "9e682e40",
   "metadata": {},
   "source": [
    "Taking too much time for grid search cv"
   ]
  },
  {
   "cell_type": "code",
   "execution_count": 80,
   "id": "dd44c7e2",
   "metadata": {},
   "outputs": [
    {
     "data": {
      "text/plain": [
       "{'n_estimators': array([ 10,  60, 110, 160, 210, 260, 310, 360, 410, 460, 510, 560, 610,\n",
       "        660, 710, 760, 810, 860, 910, 960]),\n",
       " 'max_depth': [None, 3, 5, 10],\n",
       " 'min_samples_split': array([ 2,  4,  6,  8, 10, 12, 14, 16, 18]),\n",
       " 'min_samples_leaf': array([ 1,  3,  5,  7,  9, 11, 13, 15, 17, 19])}"
      ]
     },
     "execution_count": 80,
     "metadata": {},
     "output_type": "execute_result"
    }
   ],
   "source": [
    "rf_grid"
   ]
  },
  {
   "cell_type": "code",
   "execution_count": 81,
   "id": "e5939800",
   "metadata": {},
   "outputs": [
    {
     "name": "stdout",
     "output_type": "stream",
     "text": [
      "Fitting 5 folds for each of 30 candidates, totalling 150 fits\n",
      "[CV] END ............................C=0.1, solver=liblinear; total time=   0.0s\n",
      "[CV] END ............................C=0.1, solver=liblinear; total time=   0.0s\n",
      "[CV] END ............................C=0.1, solver=liblinear; total time=   0.0s\n",
      "[CV] END ............................C=0.1, solver=liblinear; total time=   0.0s\n",
      "[CV] END ............................C=0.1, solver=liblinear; total time=   0.0s\n",
      "[CV] END ............C=0.14873521072935114, solver=liblinear; total time=   0.0s\n",
      "[CV] END ............C=0.14873521072935114, solver=liblinear; total time=   0.0s\n",
      "[CV] END ............C=0.14873521072935114, solver=liblinear; total time=   0.0s\n",
      "[CV] END ............C=0.14873521072935114, solver=liblinear; total time=   0.0s\n",
      "[CV] END ............C=0.14873521072935114, solver=liblinear; total time=   0.0s\n",
      "[CV] END .............C=0.2212216291070449, solver=liblinear; total time=   0.0s\n",
      "[CV] END .............C=0.2212216291070449, solver=liblinear; total time=   0.0s\n",
      "[CV] END .............C=0.2212216291070449, solver=liblinear; total time=   0.0s\n",
      "[CV] END .............C=0.2212216291070449, solver=liblinear; total time=   0.0s\n",
      "[CV] END .............C=0.2212216291070449, solver=liblinear; total time=   0.0s\n",
      "[CV] END ............C=0.32903445623126687, solver=liblinear; total time=   0.0s\n",
      "[CV] END ............C=0.32903445623126687, solver=liblinear; total time=   0.0s\n",
      "[CV] END ............C=0.32903445623126687, solver=liblinear; total time=   0.0s\n",
      "[CV] END ............C=0.32903445623126687, solver=liblinear; total time=   0.0s\n",
      "[CV] END ............C=0.32903445623126687, solver=liblinear; total time=   0.0s\n",
      "[CV] END .............C=0.4893900918477494, solver=liblinear; total time=   0.0s\n",
      "[CV] END .............C=0.4893900918477494, solver=liblinear; total time=   0.0s\n",
      "[CV] END .............C=0.4893900918477494, solver=liblinear; total time=   0.0s\n",
      "[CV] END .............C=0.4893900918477494, solver=liblinear; total time=   0.0s\n",
      "[CV] END .............C=0.4893900918477494, solver=liblinear; total time=   0.0s\n",
      "[CV] END .............C=0.7278953843983151, solver=liblinear; total time=   0.0s\n",
      "[CV] END .............C=0.7278953843983151, solver=liblinear; total time=   0.0s\n",
      "[CV] END .............C=0.7278953843983151, solver=liblinear; total time=   0.0s\n",
      "[CV] END .............C=0.7278953843983151, solver=liblinear; total time=   0.0s\n",
      "[CV] END .............C=0.7278953843983151, solver=liblinear; total time=   0.0s\n",
      "[CV] END .............C=1.0826367338740546, solver=liblinear; total time=   0.0s\n",
      "[CV] END .............C=1.0826367338740546, solver=liblinear; total time=   0.0s\n",
      "[CV] END .............C=1.0826367338740546, solver=liblinear; total time=   0.0s\n",
      "[CV] END .............C=1.0826367338740546, solver=liblinear; total time=   0.0s\n",
      "[CV] END .............C=1.0826367338740546, solver=liblinear; total time=   0.0s\n",
      "[CV] END .............C=1.6102620275609392, solver=liblinear; total time=   0.0s\n",
      "[CV] END .............C=1.6102620275609392, solver=liblinear; total time=   0.0s\n",
      "[CV] END .............C=1.6102620275609392, solver=liblinear; total time=   0.0s\n",
      "[CV] END .............C=1.6102620275609392, solver=liblinear; total time=   0.0s\n",
      "[CV] END .............C=1.6102620275609392, solver=liblinear; total time=   0.0s\n",
      "[CV] END ..............C=2.395026619987486, solver=liblinear; total time=   0.0s\n",
      "[CV] END ..............C=2.395026619987486, solver=liblinear; total time=   0.0s\n",
      "[CV] END ..............C=2.395026619987486, solver=liblinear; total time=   0.0s\n",
      "[CV] END ..............C=2.395026619987486, solver=liblinear; total time=   0.0s\n",
      "[CV] END ..............C=2.395026619987486, solver=liblinear; total time=   0.0s\n",
      "[CV] END ..............C=3.562247890262444, solver=liblinear; total time=   0.0s\n",
      "[CV] END ..............C=3.562247890262444, solver=liblinear; total time=   0.0s\n",
      "[CV] END ..............C=3.562247890262444, solver=liblinear; total time=   0.0s\n",
      "[CV] END ..............C=3.562247890262444, solver=liblinear; total time=   0.0s\n",
      "[CV] END ..............C=3.562247890262444, solver=liblinear; total time=   0.0s\n",
      "[CV] END ...............C=5.29831690628371, solver=liblinear; total time=   0.0s\n",
      "[CV] END ...............C=5.29831690628371, solver=liblinear; total time=   0.0s\n",
      "[CV] END ...............C=5.29831690628371, solver=liblinear; total time=   0.0s\n",
      "[CV] END ...............C=5.29831690628371, solver=liblinear; total time=   0.0s\n",
      "[CV] END ...............C=5.29831690628371, solver=liblinear; total time=   0.0s\n",
      "[CV] END ..............C=7.880462815669913, solver=liblinear; total time=   0.0s\n",
      "[CV] END ..............C=7.880462815669913, solver=liblinear; total time=   0.0s\n",
      "[CV] END ..............C=7.880462815669913, solver=liblinear; total time=   0.0s\n",
      "[CV] END ..............C=7.880462815669913, solver=liblinear; total time=   0.0s\n",
      "[CV] END ..............C=7.880462815669913, solver=liblinear; total time=   0.0s\n",
      "[CV] END .............C=11.721022975334806, solver=liblinear; total time=   0.0s\n",
      "[CV] END .............C=11.721022975334806, solver=liblinear; total time=   0.0s\n",
      "[CV] END .............C=11.721022975334806, solver=liblinear; total time=   0.0s\n",
      "[CV] END .............C=11.721022975334806, solver=liblinear; total time=   0.0s\n",
      "[CV] END .............C=11.721022975334806, solver=liblinear; total time=   0.0s\n",
      "[CV] END ..............C=17.43328822199989, solver=liblinear; total time=   0.0s\n",
      "[CV] END ..............C=17.43328822199989, solver=liblinear; total time=   0.0s\n",
      "[CV] END ..............C=17.43328822199989, solver=liblinear; total time=   0.0s\n",
      "[CV] END ..............C=17.43328822199989, solver=liblinear; total time=   0.0s\n",
      "[CV] END ..............C=17.43328822199989, solver=liblinear; total time=   0.0s\n",
      "[CV] END ..............C=25.92943797404667, solver=liblinear; total time=   0.0s\n",
      "[CV] END ..............C=25.92943797404667, solver=liblinear; total time=   0.0s\n",
      "[CV] END ..............C=25.92943797404667, solver=liblinear; total time=   0.0s\n",
      "[CV] END ..............C=25.92943797404667, solver=liblinear; total time=   0.0s\n",
      "[CV] END ..............C=25.92943797404667, solver=liblinear; total time=   0.0s\n",
      "[CV] END ..............C=38.56620421163472, solver=liblinear; total time=   0.0s\n",
      "[CV] END ..............C=38.56620421163472, solver=liblinear; total time=   0.0s\n",
      "[CV] END ..............C=38.56620421163472, solver=liblinear; total time=   0.0s\n",
      "[CV] END ..............C=38.56620421163472, solver=liblinear; total time=   0.0s\n",
      "[CV] END ..............C=38.56620421163472, solver=liblinear; total time=   0.0s\n",
      "[CV] END .............C=57.361525104486816, solver=liblinear; total time=   0.0s\n",
      "[CV] END .............C=57.361525104486816, solver=liblinear; total time=   0.0s\n",
      "[CV] END .............C=57.361525104486816, solver=liblinear; total time=   0.0s\n",
      "[CV] END .............C=57.361525104486816, solver=liblinear; total time=   0.0s\n",
      "[CV] END .............C=57.361525104486816, solver=liblinear; total time=   0.0s\n",
      "[CV] END ..............C=85.31678524172814, solver=liblinear; total time=   0.0s\n",
      "[CV] END ..............C=85.31678524172814, solver=liblinear; total time=   0.0s\n",
      "[CV] END ..............C=85.31678524172814, solver=liblinear; total time=   0.0s\n",
      "[CV] END ..............C=85.31678524172814, solver=liblinear; total time=   0.0s\n",
      "[CV] END ..............C=85.31678524172814, solver=liblinear; total time=   0.0s\n",
      "[CV] END .............C=126.89610031679234, solver=liblinear; total time=   0.0s\n",
      "[CV] END .............C=126.89610031679234, solver=liblinear; total time=   0.0s\n",
      "[CV] END .............C=126.89610031679234, solver=liblinear; total time=   0.0s\n",
      "[CV] END .............C=126.89610031679234, solver=liblinear; total time=   0.0s\n",
      "[CV] END .............C=126.89610031679234, solver=liblinear; total time=   0.0s\n",
      "[CV] END .............C=188.73918221350976, solver=liblinear; total time=   0.0s\n",
      "[CV] END .............C=188.73918221350976, solver=liblinear; total time=   0.0s\n",
      "[CV] END .............C=188.73918221350976, solver=liblinear; total time=   0.0s\n",
      "[CV] END .............C=188.73918221350976, solver=liblinear; total time=   0.0s\n",
      "[CV] END .............C=188.73918221350976, solver=liblinear; total time=   0.0s\n",
      "[CV] END .............C=280.72162039411785, solver=liblinear; total time=   0.0s\n",
      "[CV] END .............C=280.72162039411785, solver=liblinear; total time=   0.0s\n",
      "[CV] END .............C=280.72162039411785, solver=liblinear; total time=   0.0s\n",
      "[CV] END .............C=280.72162039411785, solver=liblinear; total time=   0.0s\n",
      "[CV] END .............C=280.72162039411785, solver=liblinear; total time=   0.0s\n",
      "[CV] END .............C=417.53189365604044, solver=liblinear; total time=   0.0s\n",
      "[CV] END .............C=417.53189365604044, solver=liblinear; total time=   0.0s\n",
      "[CV] END .............C=417.53189365604044, solver=liblinear; total time=   0.0s\n",
      "[CV] END .............C=417.53189365604044, solver=liblinear; total time=   0.0s\n",
      "[CV] END .............C=417.53189365604044, solver=liblinear; total time=   0.0s\n",
      "[CV] END ..............C=621.0169418915616, solver=liblinear; total time=   0.0s\n",
      "[CV] END ..............C=621.0169418915616, solver=liblinear; total time=   0.0s\n",
      "[CV] END ..............C=621.0169418915616, solver=liblinear; total time=   0.0s\n",
      "[CV] END ..............C=621.0169418915616, solver=liblinear; total time=   0.0s\n",
      "[CV] END ..............C=621.0169418915616, solver=liblinear; total time=   0.0s\n",
      "[CV] END ..............C=923.6708571873866, solver=liblinear; total time=   0.0s\n",
      "[CV] END ..............C=923.6708571873866, solver=liblinear; total time=   0.0s\n",
      "[CV] END ..............C=923.6708571873866, solver=liblinear; total time=   0.0s\n",
      "[CV] END ..............C=923.6708571873866, solver=liblinear; total time=   0.0s\n",
      "[CV] END ..............C=923.6708571873866, solver=liblinear; total time=   0.0s\n",
      "[CV] END .............C=1373.8237958832638, solver=liblinear; total time=   0.0s\n",
      "[CV] END .............C=1373.8237958832638, solver=liblinear; total time=   0.0s\n",
      "[CV] END .............C=1373.8237958832638, solver=liblinear; total time=   0.0s\n",
      "[CV] END .............C=1373.8237958832638, solver=liblinear; total time=   0.0s\n",
      "[CV] END .............C=1373.8237958832638, solver=liblinear; total time=   0.0s\n",
      "[CV] END .............C=2043.3597178569437, solver=liblinear; total time=   0.0s\n",
      "[CV] END .............C=2043.3597178569437, solver=liblinear; total time=   0.0s\n",
      "[CV] END .............C=2043.3597178569437, solver=liblinear; total time=   0.0s\n",
      "[CV] END .............C=2043.3597178569437, solver=liblinear; total time=   0.0s\n",
      "[CV] END .............C=2043.3597178569437, solver=liblinear; total time=   0.0s\n",
      "[CV] END ..............C=3039.195382313201, solver=liblinear; total time=   0.0s\n",
      "[CV] END ..............C=3039.195382313201, solver=liblinear; total time=   0.0s\n",
      "[CV] END ..............C=3039.195382313201, solver=liblinear; total time=   0.0s\n",
      "[CV] END ..............C=3039.195382313201, solver=liblinear; total time=   0.0s\n",
      "[CV] END ..............C=3039.195382313201, solver=liblinear; total time=   0.0s\n",
      "[CV] END ...............C=4520.35365636025, solver=liblinear; total time=   0.0s\n",
      "[CV] END ...............C=4520.35365636025, solver=liblinear; total time=   0.0s\n",
      "[CV] END ...............C=4520.35365636025, solver=liblinear; total time=   0.0s\n",
      "[CV] END ...............C=4520.35365636025, solver=liblinear; total time=   0.0s\n",
      "[CV] END ...............C=4520.35365636025, solver=liblinear; total time=   0.0s\n",
      "[CV] END ..............C=6723.357536499335, solver=liblinear; total time=   0.0s\n",
      "[CV] END ..............C=6723.357536499335, solver=liblinear; total time=   0.0s\n",
      "[CV] END ..............C=6723.357536499335, solver=liblinear; total time=   0.0s\n",
      "[CV] END ..............C=6723.357536499335, solver=liblinear; total time=   0.0s\n",
      "[CV] END ..............C=6723.357536499335, solver=liblinear; total time=   0.0s\n",
      "[CV] END ........................C=10000.0, solver=liblinear; total time=   0.0s\n",
      "[CV] END ........................C=10000.0, solver=liblinear; total time=   0.0s\n",
      "[CV] END ........................C=10000.0, solver=liblinear; total time=   0.0s\n",
      "[CV] END ........................C=10000.0, solver=liblinear; total time=   0.0s\n",
      "[CV] END ........................C=10000.0, solver=liblinear; total time=   0.0s\n"
     ]
    },
    {
     "data": {
      "text/plain": [
       "GridSearchCV(cv=5, estimator=LogisticRegression(),\n",
       "             param_grid={'C': array([1.00000000e-01, 1.48735211e-01, 2.21221629e-01, 3.29034456e-01,\n",
       "       4.89390092e-01, 7.27895384e-01, 1.08263673e+00, 1.61026203e+00,\n",
       "       2.39502662e+00, 3.56224789e+00, 5.29831691e+00, 7.88046282e+00,\n",
       "       1.17210230e+01, 1.74332882e+01, 2.59294380e+01, 3.85662042e+01,\n",
       "       5.73615251e+01, 8.53167852e+01, 1.26896100e+02, 1.88739182e+02,\n",
       "       2.80721620e+02, 4.17531894e+02, 6.21016942e+02, 9.23670857e+02,\n",
       "       1.37382380e+03, 2.04335972e+03, 3.03919538e+03, 4.52035366e+03,\n",
       "       6.72335754e+03, 1.00000000e+04]),\n",
       "                         'solver': ['liblinear']},\n",
       "             verbose=2)"
      ]
     },
     "execution_count": 81,
     "metadata": {},
     "output_type": "execute_result"
    }
   ],
   "source": [
    "# since logistics is the best till now... tune with grid search....\n",
    "\n",
    "log_reg = {\"C\":np.logspace(-1,4,30),\"solver\": [\"liblinear\"]}\n",
    "\n",
    "gs_log_reg = GridSearchCV(LogisticRegression(), param_grid=log_reg,cv = 5, verbose=2)\n",
    "gs_log_reg.fit(X_train,y_train)"
   ]
  },
  {
   "cell_type": "code",
   "execution_count": 82,
   "id": "bf53d9c0",
   "metadata": {},
   "outputs": [
    {
     "data": {
      "text/plain": [
       "{'C': 0.2212216291070449, 'solver': 'liblinear'}"
      ]
     },
     "execution_count": 82,
     "metadata": {},
     "output_type": "execute_result"
    }
   ],
   "source": [
    "gs_log_reg.best_params_"
   ]
  },
  {
   "cell_type": "code",
   "execution_count": 83,
   "id": "d845752a",
   "metadata": {},
   "outputs": [
    {
     "data": {
      "text/plain": [
       "0.8852459016393442"
      ]
     },
     "execution_count": 83,
     "metadata": {},
     "output_type": "execute_result"
    }
   ],
   "source": [
    "gs_log_reg.score(X_test,y_test)"
   ]
  },
  {
   "cell_type": "markdown",
   "id": "d4015958",
   "metadata": {},
   "source": [
    "### Evaluation of lostic regression model:"
   ]
  },
  {
   "cell_type": "code",
   "execution_count": 84,
   "id": "9b0a55b1",
   "metadata": {},
   "outputs": [
    {
     "data": {
      "text/plain": [
       "array([0, 1, 1, 0, 1, 1, 1, 0, 0, 1, 1, 0, 1, 0, 1, 1, 1, 0, 0, 0, 1, 0,\n",
       "       0, 1, 1, 1, 1, 1, 0, 1, 0, 0, 0, 0, 1, 0, 1, 1, 1, 1, 1, 1, 1, 1,\n",
       "       1, 0, 1, 1, 0, 0, 0, 0, 1, 1, 0, 0, 0, 1, 0, 0, 0], dtype=int64)"
      ]
     },
     "execution_count": 84,
     "metadata": {},
     "output_type": "execute_result"
    }
   ],
   "source": [
    "y_preds = gs_log_reg.predict(X_test)\n",
    "y_preds"
   ]
  },
  {
   "cell_type": "code",
   "execution_count": 85,
   "id": "f297cd8f",
   "metadata": {},
   "outputs": [
    {
     "data": {
      "text/plain": [
       "179    0\n",
       "228    0\n",
       "111    1\n",
       "246    0\n",
       "60     1\n",
       "      ..\n",
       "249    0\n",
       "104    1\n",
       "300    0\n",
       "193    0\n",
       "184    0\n",
       "Name: target, Length: 61, dtype: int64"
      ]
     },
     "execution_count": 85,
     "metadata": {},
     "output_type": "execute_result"
    }
   ],
   "source": [
    "y_test"
   ]
  },
  {
   "cell_type": "code",
   "execution_count": 88,
   "id": "43d4ade1",
   "metadata": {},
   "outputs": [
    {
     "name": "stderr",
     "output_type": "stream",
     "text": [
      "C:\\Users\\karti\\anaconda3\\lib\\site-packages\\sklearn\\utils\\deprecation.py:87: FutureWarning: Function plot_roc_curve is deprecated; Function :func:`plot_roc_curve` is deprecated in 1.0 and will be removed in 1.2. Use one of the class methods: :meth:`sklearn.metric.RocCurveDisplay.from_predictions` or :meth:`sklearn.metric.RocCurveDisplay.from_estimator`.\n",
      "  warnings.warn(msg, category=FutureWarning)\n"
     ]
    },
    {
     "data": {
      "image/png": "[encoded data removed]",
      "text/plain": [
       "<Figure size 640x480 with 1 Axes>"
      ]
     },
     "metadata": {},
     "output_type": "display_data"
    }
   ],
   "source": [
    "plot_roc_curve(gs_log_reg,X_test, y_test);"
   ]
  },
  {
   "cell_type": "code",
   "execution_count": 90,
   "id": "625ca108",
   "metadata": {},
   "outputs": [
    {
     "data": {
      "image/png": "[encoded data removed]",
      "text/plain": [
       "<Figure size 300x300 with 1 Axes>"
      ]
     },
     "metadata": {},
     "output_type": "display_data"
    }
   ],
   "source": [
    "sns.set(font_scale = 1.5)\n",
    "def plot_conf_mat (y_test, y_preds):\n",
    "    fig, ax = plt.subplots(figsize=(3,3))\n",
    "    ax = sns.heatmap(confusion_matrix(y_test,y_preds), annot=True, cbar=False)\n",
    "    plt.xlabel(\"Predicted label\")\n",
    "    plt.ylabel(\"True label\")\n",
    "    \n",
    "plot_conf_mat(y_test,y_preds)"
   ]
  },
  {
   "cell_type": "code",
   "execution_count": 91,
   "id": "bcd8b142",
   "metadata": {},
   "outputs": [
    {
     "name": "stdout",
     "output_type": "stream",
     "text": [
      "              precision    recall  f1-score   support\n",
      "\n",
      "           0       0.89      0.86      0.88        29\n",
      "           1       0.88      0.91      0.89        32\n",
      "\n",
      "    accuracy                           0.89        61\n",
      "   macro avg       0.89      0.88      0.88        61\n",
      "weighted avg       0.89      0.89      0.89        61\n",
      "\n"
     ]
    }
   ],
   "source": [
    "print(classification_report(y_test, y_preds))"
   ]
  },
  {
   "cell_type": "markdown",
   "id": "2f79bc6a",
   "metadata": {},
   "source": [
    "### Precision:\n",
    "the number of true positives (i.e. the number of items correctly labelled as belonging to the positive class) divided by the total number of elements labelled as belonging to the positive class "
   ]
  },
  {
   "cell_type": "code",
   "execution_count": 92,
   "id": "88e8ade8",
   "metadata": {},
   "outputs": [
    {
     "data": {
      "text/plain": [
       "{'C': 0.2212216291070449, 'solver': 'liblinear'}"
      ]
     },
     "execution_count": 92,
     "metadata": {},
     "output_type": "execute_result"
    }
   ],
   "source": [
    "gs_log_reg.best_params_"
   ]
  },
  {
   "cell_type": "code",
   "execution_count": 94,
   "id": "75e39051",
   "metadata": {},
   "outputs": [],
   "source": [
    "clf = LogisticRegression(C= 0.2212216291070449, solver= 'liblinear')"
   ]
  },
  {
   "cell_type": "code",
   "execution_count": 96,
   "id": "845892f4",
   "metadata": {},
   "outputs": [
    {
     "data": {
      "text/plain": [
       "0.8479781420765027"
      ]
     },
     "execution_count": 96,
     "metadata": {},
     "output_type": "execute_result"
    }
   ],
   "source": [
    "cv_acc = cross_val_score(clf, X,y,cv=5,scoring='accuracy')\n",
    "cv_acc.mean()"
   ]
  },
  {
   "cell_type": "code",
   "execution_count": 97,
   "id": "d073dc56",
   "metadata": {},
   "outputs": [
    {
     "data": {
      "text/plain": [
       "0.8215873015873015"
      ]
     },
     "execution_count": 97,
     "metadata": {},
     "output_type": "execute_result"
    }
   ],
   "source": [
    "cv_prec = cross_val_score(clf,X,y,cv=5,scoring = 'precision')\n",
    "cv_prec.mean()"
   ]
  },
  {
   "cell_type": "code",
   "execution_count": 99,
   "id": "945e13d4",
   "metadata": {},
   "outputs": [
    {
     "data": {
      "text/plain": [
       "0.9272727272727274"
      ]
     },
     "execution_count": 99,
     "metadata": {},
     "output_type": "execute_result"
    }
   ],
   "source": [
    "cv_rec = cross_val_score(clf,X,y,cv=5,scoring='recall')\n",
    "cv_rec.mean()"
   ]
  },
  {
   "cell_type": "code",
   "execution_count": 100,
   "id": "ea871422",
   "metadata": {},
   "outputs": [
    {
     "data": {
      "text/plain": [
       "0.8705403543192143"
      ]
     },
     "execution_count": 100,
     "metadata": {},
     "output_type": "execute_result"
    }
   ],
   "source": [
    "cv_f1 = cross_val_score(clf,X,y,cv=5,scoring='f1')\n",
    "cv_f1.mean()"
   ]
  },
  {
   "cell_type": "code",
   "execution_count": 106,
   "id": "c36a777a",
   "metadata": {},
   "outputs": [
    {
     "data": {
      "text/plain": [
       "<AxesSubplot:title={'center':'Cross val Classification metrics'}>"
      ]
     },
     "execution_count": 106,
     "metadata": {},
     "output_type": "execute_result"
    },
    {
     "data": {
      "image/png": "[encoded data removed]",
      "text/plain": [
       "<Figure size 640x480 with 1 Axes>"
      ]
     },
     "metadata": {},
     "output_type": "display_data"
    }
   ],
   "source": [
    "cv_metrics = pd.DataFrame({\"Accuracy\": cv_acc,\"Precision\": cv_prec,\"Recall\":cv_rec,\"F1\":cv_f1})\n",
    "cv_metrics.T.plot.bar(title=\"Cross val Classification metrics\", legend=False)"
   ]
  },
  {
   "cell_type": "markdown",
   "id": "56f61052",
   "metadata": {},
   "source": [
    "### Feature importancs:\n",
    "\n",
    "Features that contributed the maximum to the particular outcome.\n",
    "\n",
    "Finding features is different for each model."
   ]
  },
  {
   "cell_type": "code",
   "execution_count": 108,
   "id": "4991f65a",
   "metadata": {},
   "outputs": [
    {
     "data": {
      "text/plain": [
       "LogisticRegression(C=0.2212216291070449, solver='liblinear')"
      ]
     },
     "execution_count": 108,
     "metadata": {},
     "output_type": "execute_result"
    }
   ],
   "source": [
    "# fit an instance of logisticregression\n",
    "\n",
    "clf = LogisticRegression(C= 0.2212216291070449, solver= 'liblinear')\n",
    "\n",
    "clf.fit(X_train,y_train)"
   ]
  },
  {
   "cell_type": "code",
   "execution_count": 110,
   "id": "90b02b2c",
   "metadata": {},
   "outputs": [
    {
     "data": {
      "text/html": [
       "<div>\n",
       "<style scoped>\n",
       "    .dataframe tbody tr th:only-of-type {\n",
       "        vertical-align: middle;\n",
       "    }\n",
       "\n",
       "    .dataframe tbody tr th {\n",
       "        vertical-align: top;\n",
       "    }\n",
       "\n",
       "    .dataframe thead th {\n",
       "        text-align: right;\n",
       "    }\n",
       "</style>\n",
       "<table border=\"1\" class=\"dataframe\">\n",
       "  <thead>\n",
       "    <tr style=\"text-align: right;\">\n",
       "      <th></th>\n",
       "      <th>age</th>\n",
       "      <th>sex</th>\n",
       "      <th>cp</th>\n",
       "      <th>trestbps</th>\n",
       "      <th>chol</th>\n",
       "      <th>fbs</th>\n",
       "      <th>restecg</th>\n",
       "      <th>thalach</th>\n",
       "      <th>exang</th>\n",
       "      <th>oldpeak</th>\n",
       "      <th>slope</th>\n",
       "      <th>ca</th>\n",
       "      <th>thal</th>\n",
       "      <th>target</th>\n",
       "    </tr>\n",
       "  </thead>\n",
       "  <tbody>\n",
       "    <tr>\n",
       "      <th>0</th>\n",
       "      <td>63</td>\n",
       "      <td>1</td>\n",
       "      <td>3</td>\n",
       "      <td>145</td>\n",
       "      <td>233</td>\n",
       "      <td>1</td>\n",
       "      <td>0</td>\n",
       "      <td>150</td>\n",
       "      <td>0</td>\n",
       "      <td>2.3</td>\n",
       "      <td>0</td>\n",
       "      <td>0</td>\n",
       "      <td>1</td>\n",
       "      <td>1</td>\n",
       "    </tr>\n",
       "    <tr>\n",
       "      <th>1</th>\n",
       "      <td>37</td>\n",
       "      <td>1</td>\n",
       "      <td>2</td>\n",
       "      <td>130</td>\n",
       "      <td>250</td>\n",
       "      <td>0</td>\n",
       "      <td>1</td>\n",
       "      <td>187</td>\n",
       "      <td>0</td>\n",
       "      <td>3.5</td>\n",
       "      <td>0</td>\n",
       "      <td>0</td>\n",
       "      <td>2</td>\n",
       "      <td>1</td>\n",
       "    </tr>\n",
       "    <tr>\n",
       "      <th>2</th>\n",
       "      <td>41</td>\n",
       "      <td>0</td>\n",
       "      <td>1</td>\n",
       "      <td>130</td>\n",
       "      <td>204</td>\n",
       "      <td>0</td>\n",
       "      <td>0</td>\n",
       "      <td>172</td>\n",
       "      <td>0</td>\n",
       "      <td>1.4</td>\n",
       "      <td>2</td>\n",
       "      <td>0</td>\n",
       "      <td>2</td>\n",
       "      <td>1</td>\n",
       "    </tr>\n",
       "    <tr>\n",
       "      <th>3</th>\n",
       "      <td>56</td>\n",
       "      <td>1</td>\n",
       "      <td>1</td>\n",
       "      <td>120</td>\n",
       "      <td>236</td>\n",
       "      <td>0</td>\n",
       "      <td>1</td>\n",
       "      <td>178</td>\n",
       "      <td>0</td>\n",
       "      <td>0.8</td>\n",
       "      <td>2</td>\n",
       "      <td>0</td>\n",
       "      <td>2</td>\n",
       "      <td>1</td>\n",
       "    </tr>\n",
       "    <tr>\n",
       "      <th>4</th>\n",
       "      <td>57</td>\n",
       "      <td>0</td>\n",
       "      <td>0</td>\n",
       "      <td>120</td>\n",
       "      <td>354</td>\n",
       "      <td>0</td>\n",
       "      <td>1</td>\n",
       "      <td>163</td>\n",
       "      <td>1</td>\n",
       "      <td>0.6</td>\n",
       "      <td>2</td>\n",
       "      <td>0</td>\n",
       "      <td>2</td>\n",
       "      <td>1</td>\n",
       "    </tr>\n",
       "  </tbody>\n",
       "</table>\n",
       "</div>"
      ],
      "text/plain": [
       "   age  sex  cp  trestbps  chol  fbs  restecg  thalach  exang  oldpeak  slope  \\\n",
       "0   63    1   3       145   233    1        0      150      0      2.3      0   \n",
       "1   37    1   2       130   250    0        1      187      0      3.5      0   \n",
       "2   41    0   1       130   204    0        0      172      0      1.4      2   \n",
       "3   56    1   1       120   236    0        1      178      0      0.8      2   \n",
       "4   57    0   0       120   354    0        1      163      1      0.6      2   \n",
       "\n",
       "   ca  thal  target  \n",
       "0   0     1       1  \n",
       "1   0     2       1  \n",
       "2   0     2       1  \n",
       "3   0     2       1  \n",
       "4   0     2       1  "
      ]
     },
     "execution_count": 110,
     "metadata": {},
     "output_type": "execute_result"
    }
   ],
   "source": [
    "df.head()"
   ]
  },
  {
   "cell_type": "code",
   "execution_count": 109,
   "id": "c6ad5f9d",
   "metadata": {},
   "outputs": [
    {
     "data": {
      "text/plain": [
       "array([[ 0.00349245, -0.88796916,  0.66918367, -0.01158797, -0.00169042,\n",
       "         0.04686425,  0.32466999,  0.02468531, -0.62089933, -0.57279054,\n",
       "         0.46279211, -0.64494485, -0.68916113]])"
      ]
     },
     "execution_count": 109,
     "metadata": {},
     "output_type": "execute_result"
    }
   ],
   "source": [
    "clf.coef_"
   ]
  },
  {
   "cell_type": "code",
   "execution_count": 112,
   "id": "ccb1a73e",
   "metadata": {},
   "outputs": [
    {
     "data": {
      "text/plain": [
       "{'age': 0.0034924505768488775,\n",
       " 'sex': -0.8879691571740164,\n",
       " 'cp': 0.6691836716495643,\n",
       " 'trestbps': -0.011587970767984146,\n",
       " 'chol': -0.0016904160055774195,\n",
       " 'fbs': 0.04686424754960886,\n",
       " 'restecg': 0.32466998693412263,\n",
       " 'thalach': 0.02468530718360707,\n",
       " 'exang': -0.6208993253461268,\n",
       " 'oldpeak': -0.5727905415595221,\n",
       " 'slope': 0.4627921086768734,\n",
       " 'ca': -0.6449448511664444,\n",
       " 'thal': -0.689161132666287}"
      ]
     },
     "execution_count": 112,
     "metadata": {},
     "output_type": "execute_result"
    }
   ],
   "source": [
    "# match coeff of features to column:\n",
    "\n",
    "feature_dict = dict(zip(df.columns,list(clf.coef_[0])))\n",
    "feature_dict"
   ]
  },
  {
   "cell_type": "code",
   "execution_count": 113,
   "id": "01ac3064",
   "metadata": {},
   "outputs": [
    {
     "data": {
      "text/plain": [
       "<AxesSubplot:>"
      ]
     },
     "execution_count": 113,
     "metadata": {},
     "output_type": "execute_result"
    },
    {
     "data": {
      "image/png": "[encoded data removed]",
      "text/plain": [
       "<Figure size 640x480 with 1 Axes>"
      ]
     },
     "metadata": {},
     "output_type": "display_data"
    }
   ],
   "source": [
    "# visualize feature importance:\n",
    "\n",
    "feature_df = pd.DataFrame(feature_dict,index=[0])\n",
    "\n",
    "feature_df.T.plot.bar(legend=False)"
   ]
  },
  {
   "cell_type": "code",
   "execution_count": 114,
   "id": "a4cab3fc",
   "metadata": {},
   "outputs": [
    {
     "data": {
      "text/html": [
       "<div>\n",
       "<style scoped>\n",
       "    .dataframe tbody tr th:only-of-type {\n",
       "        vertical-align: middle;\n",
       "    }\n",
       "\n",
       "    .dataframe tbody tr th {\n",
       "        vertical-align: top;\n",
       "    }\n",
       "\n",
       "    .dataframe thead th {\n",
       "        text-align: right;\n",
       "    }\n",
       "</style>\n",
       "<table border=\"1\" class=\"dataframe\">\n",
       "  <thead>\n",
       "    <tr style=\"text-align: right;\">\n",
       "      <th>target</th>\n",
       "      <th>0</th>\n",
       "      <th>1</th>\n",
       "    </tr>\n",
       "    <tr>\n",
       "      <th>sex</th>\n",
       "      <th></th>\n",
       "      <th></th>\n",
       "    </tr>\n",
       "  </thead>\n",
       "  <tbody>\n",
       "    <tr>\n",
       "      <th>0</th>\n",
       "      <td>24</td>\n",
       "      <td>72</td>\n",
       "    </tr>\n",
       "    <tr>\n",
       "      <th>1</th>\n",
       "      <td>114</td>\n",
       "      <td>93</td>\n",
       "    </tr>\n",
       "  </tbody>\n",
       "</table>\n",
       "</div>"
      ],
      "text/plain": [
       "target    0   1\n",
       "sex            \n",
       "0        24  72\n",
       "1       114  93"
      ]
     },
     "execution_count": 114,
     "metadata": {},
     "output_type": "execute_result"
    }
   ],
   "source": [
    "pd.crosstab(df[\"sex\"],df[\"target\"])"
   ]
  },
  {
   "cell_type": "code",
   "execution_count": 115,
   "id": "e45fd39d",
   "metadata": {},
   "outputs": [
    {
     "data": {
      "text/html": [
       "<div>\n",
       "<style scoped>\n",
       "    .dataframe tbody tr th:only-of-type {\n",
       "        vertical-align: middle;\n",
       "    }\n",
       "\n",
       "    .dataframe tbody tr th {\n",
       "        vertical-align: top;\n",
       "    }\n",
       "\n",
       "    .dataframe thead th {\n",
       "        text-align: right;\n",
       "    }\n",
       "</style>\n",
       "<table border=\"1\" class=\"dataframe\">\n",
       "  <thead>\n",
       "    <tr style=\"text-align: right;\">\n",
       "      <th>target</th>\n",
       "      <th>0</th>\n",
       "      <th>1</th>\n",
       "    </tr>\n",
       "    <tr>\n",
       "      <th>slope</th>\n",
       "      <th></th>\n",
       "      <th></th>\n",
       "    </tr>\n",
       "  </thead>\n",
       "  <tbody>\n",
       "    <tr>\n",
       "      <th>0</th>\n",
       "      <td>12</td>\n",
       "      <td>9</td>\n",
       "    </tr>\n",
       "    <tr>\n",
       "      <th>1</th>\n",
       "      <td>91</td>\n",
       "      <td>49</td>\n",
       "    </tr>\n",
       "    <tr>\n",
       "      <th>2</th>\n",
       "      <td>35</td>\n",
       "      <td>107</td>\n",
       "    </tr>\n",
       "  </tbody>\n",
       "</table>\n",
       "</div>"
      ],
      "text/plain": [
       "target   0    1\n",
       "slope          \n",
       "0       12    9\n",
       "1       91   49\n",
       "2       35  107"
      ]
     },
     "execution_count": 115,
     "metadata": {},
     "output_type": "execute_result"
    }
   ],
   "source": [
    "pd.crosstab(df[\"slope\"],df[\"target\"])"
   ]
  },
  {
   "cell_type": "code",
   "execution_count": 116,
   "id": "c93c6022",
   "metadata": {},
   "outputs": [
    {
     "data": {
      "text/html": [
       "<div>\n",
       "<style scoped>\n",
       "    .dataframe tbody tr th:only-of-type {\n",
       "        vertical-align: middle;\n",
       "    }\n",
       "\n",
       "    .dataframe tbody tr th {\n",
       "        vertical-align: top;\n",
       "    }\n",
       "\n",
       "    .dataframe thead th {\n",
       "        text-align: right;\n",
       "    }\n",
       "</style>\n",
       "<table border=\"1\" class=\"dataframe\">\n",
       "  <thead>\n",
       "    <tr style=\"text-align: right;\">\n",
       "      <th>target</th>\n",
       "      <th>0</th>\n",
       "      <th>1</th>\n",
       "    </tr>\n",
       "    <tr>\n",
       "      <th>cp</th>\n",
       "      <th></th>\n",
       "      <th></th>\n",
       "    </tr>\n",
       "  </thead>\n",
       "  <tbody>\n",
       "    <tr>\n",
       "      <th>0</th>\n",
       "      <td>104</td>\n",
       "      <td>39</td>\n",
       "    </tr>\n",
       "    <tr>\n",
       "      <th>1</th>\n",
       "      <td>9</td>\n",
       "      <td>41</td>\n",
       "    </tr>\n",
       "    <tr>\n",
       "      <th>2</th>\n",
       "      <td>18</td>\n",
       "      <td>69</td>\n",
       "    </tr>\n",
       "    <tr>\n",
       "      <th>3</th>\n",
       "      <td>7</td>\n",
       "      <td>16</td>\n",
       "    </tr>\n",
       "  </tbody>\n",
       "</table>\n",
       "</div>"
      ],
      "text/plain": [
       "target    0   1\n",
       "cp             \n",
       "0       104  39\n",
       "1         9  41\n",
       "2        18  69\n",
       "3         7  16"
      ]
     },
     "execution_count": 116,
     "metadata": {},
     "output_type": "execute_result"
    }
   ],
   "source": [
    "pd.crosstab(df[\"cp\"],df[\"target\"])"
   ]
  },
  {
   "cell_type": "markdown",
   "id": "06abfdc1",
   "metadata": {},
   "source": [
    "## Experimentation:\n",
    "\n",
    "the evaluation metrics did not fulfill the 95% criteria:\n",
    "\n",
    "* could collect more data\n",
    "* could try better model? Catboost or XGboost?\n",
    "* could we improve the current models? (beyond what we have done)\n",
    "* if model is good enough, export it with pickle.\n",
    "\n",
    "\n",
    "### Experiment of my own of XGboost, Catboost:"
   ]
  },
  {
   "cell_type": "code",
   "execution_count": 119,
   "id": "54d0c85f",
   "metadata": {},
   "outputs": [
    {
     "data": {
      "text/plain": [
       "XGBClassifier(base_score=None, booster=None, callbacks=None,\n",
       "              colsample_bylevel=None, colsample_bynode=None,\n",
       "              colsample_bytree=None, early_stopping_rounds=None,\n",
       "              enable_categorical=False, eval_metric=None, feature_types=None,\n",
       "              gamma=None, gpu_id=None, grow_policy=None, importance_type=None,\n",
       "              interaction_constraints=None, learning_rate=None, max_bin=None,\n",
       "              max_cat_threshold=None, max_cat_to_onehot=None,\n",
       "              max_delta_step=None, max_depth=None, max_leaves=None,\n",
       "              min_child_weight=None, missing=nan, monotone_constraints=None,\n",
       "              n_estimators=100, n_jobs=None, num_parallel_tree=None,\n",
       "              predictor=None, random_state=None, ...)"
      ]
     },
     "execution_count": 119,
     "metadata": {},
     "output_type": "execute_result"
    }
   ],
   "source": [
    "# XGboost:\n",
    "\n",
    "from xgboost import XGBClassifier\n",
    "\n",
    "xgb_clf = XGBClassifier()\n",
    "xgb_clf.fit(X_train, y_train)"
   ]
  },
  {
   "cell_type": "code",
   "execution_count": 120,
   "id": "fe9bd6fc",
   "metadata": {},
   "outputs": [
    {
     "data": {
      "text/plain": [
       "0.819672131147541"
      ]
     },
     "execution_count": 120,
     "metadata": {},
     "output_type": "execute_result"
    }
   ],
   "source": [
    "xgb_clf.score(X_test,y_test)"
   ]
  },
  {
   "cell_type": "code",
   "execution_count": 121,
   "id": "df1451af",
   "metadata": {},
   "outputs": [
    {
     "data": {
      "text/plain": [
       "<bound method XGBModel.get_params of XGBClassifier(base_score=None, booster=None, callbacks=None,\n",
       "              colsample_bylevel=None, colsample_bynode=None,\n",
       "              colsample_bytree=None, early_stopping_rounds=None,\n",
       "              enable_categorical=False, eval_metric=None, feature_types=None,\n",
       "              gamma=None, gpu_id=None, grow_policy=None, importance_type=None,\n",
       "              interaction_constraints=None, learning_rate=None, max_bin=None,\n",
       "              max_cat_threshold=None, max_cat_to_onehot=None,\n",
       "              max_delta_step=None, max_depth=None, max_leaves=None,\n",
       "              min_child_weight=None, missing=nan, monotone_constraints=None,\n",
       "              n_estimators=100, n_jobs=None, num_parallel_tree=None,\n",
       "              predictor=None, random_state=None, ...)>"
      ]
     },
     "execution_count": 121,
     "metadata": {},
     "output_type": "execute_result"
    }
   ],
   "source": [
    "xgb_clf.get_params"
   ]
  },
  {
   "cell_type": "code",
   "execution_count": 122,
   "id": "0ffdcbb2",
   "metadata": {
    "scrolled": true
   },
   "outputs": [
    {
     "name": "stdout",
     "output_type": "stream",
     "text": [
      "Fitting 5 folds for each of 20 candidates, totalling 100 fits\n",
      "[CV] END colsample_bytree=0.5, gamma=1, learning_rate=0.05, max_depth=7, reg_lambda=0, scale_pos_weight=1, subsample=0.8; total time=   0.1s\n",
      "[CV] END colsample_bytree=0.5, gamma=1, learning_rate=0.05, max_depth=7, reg_lambda=0, scale_pos_weight=1, subsample=0.8; total time=   0.1s\n",
      "[CV] END colsample_bytree=0.5, gamma=1, learning_rate=0.05, max_depth=7, reg_lambda=0, scale_pos_weight=1, subsample=0.8; total time=   0.1s\n",
      "[CV] END colsample_bytree=0.5, gamma=1, learning_rate=0.05, max_depth=7, reg_lambda=0, scale_pos_weight=1, subsample=0.8; total time=   0.1s\n",
      "[CV] END colsample_bytree=0.5, gamma=1, learning_rate=0.05, max_depth=7, reg_lambda=0, scale_pos_weight=1, subsample=0.8; total time=   0.1s\n",
      "[CV] END colsample_bytree=0.5, gamma=0.25, learning_rate=0.1, max_depth=7, reg_lambda=10, scale_pos_weight=1, subsample=0.8; total time=   0.1s\n",
      "[CV] END colsample_bytree=0.5, gamma=0.25, learning_rate=0.1, max_depth=7, reg_lambda=10, scale_pos_weight=1, subsample=0.8; total time=   0.1s\n",
      "[CV] END colsample_bytree=0.5, gamma=0.25, learning_rate=0.1, max_depth=7, reg_lambda=10, scale_pos_weight=1, subsample=0.8; total time=   0.1s\n",
      "[CV] END colsample_bytree=0.5, gamma=0.25, learning_rate=0.1, max_depth=7, reg_lambda=10, scale_pos_weight=1, subsample=0.8; total time=   0.0s\n",
      "[CV] END colsample_bytree=0.5, gamma=0.25, learning_rate=0.1, max_depth=7, reg_lambda=10, scale_pos_weight=1, subsample=0.8; total time=   0.0s\n",
      "[CV] END colsample_bytree=0.5, gamma=0.25, learning_rate=0.1, max_depth=4, reg_lambda=1, scale_pos_weight=5, subsample=0.8; total time=   0.1s\n",
      "[CV] END colsample_bytree=0.5, gamma=0.25, learning_rate=0.1, max_depth=4, reg_lambda=1, scale_pos_weight=5, subsample=0.8; total time=   0.0s\n",
      "[CV] END colsample_bytree=0.5, gamma=0.25, learning_rate=0.1, max_depth=4, reg_lambda=1, scale_pos_weight=5, subsample=0.8; total time=   0.0s\n",
      "[CV] END colsample_bytree=0.5, gamma=0.25, learning_rate=0.1, max_depth=4, reg_lambda=1, scale_pos_weight=5, subsample=0.8; total time=   0.0s\n",
      "[CV] END colsample_bytree=0.5, gamma=0.25, learning_rate=0.1, max_depth=4, reg_lambda=1, scale_pos_weight=5, subsample=0.8; total time=   0.0s\n",
      "[CV] END colsample_bytree=0.5, gamma=1, learning_rate=0.01, max_depth=5, reg_lambda=10, scale_pos_weight=1, subsample=0.8; total time=   0.0s\n",
      "[CV] END colsample_bytree=0.5, gamma=1, learning_rate=0.01, max_depth=5, reg_lambda=10, scale_pos_weight=1, subsample=0.8; total time=   0.0s\n",
      "[CV] END colsample_bytree=0.5, gamma=1, learning_rate=0.01, max_depth=5, reg_lambda=10, scale_pos_weight=1, subsample=0.8; total time=   0.0s\n",
      "[CV] END colsample_bytree=0.5, gamma=1, learning_rate=0.01, max_depth=5, reg_lambda=10, scale_pos_weight=1, subsample=0.8; total time=   0.0s\n",
      "[CV] END colsample_bytree=0.5, gamma=1, learning_rate=0.01, max_depth=5, reg_lambda=10, scale_pos_weight=1, subsample=0.8; total time=   0.0s\n",
      "[CV] END colsample_bytree=0.5, gamma=0, learning_rate=0.05, max_depth=3, reg_lambda=1, scale_pos_weight=5, subsample=0.8; total time=   0.0s\n",
      "[CV] END colsample_bytree=0.5, gamma=0, learning_rate=0.05, max_depth=3, reg_lambda=1, scale_pos_weight=5, subsample=0.8; total time=   0.0s\n",
      "[CV] END colsample_bytree=0.5, gamma=0, learning_rate=0.05, max_depth=3, reg_lambda=1, scale_pos_weight=5, subsample=0.8; total time=   0.0s\n",
      "[CV] END colsample_bytree=0.5, gamma=0, learning_rate=0.05, max_depth=3, reg_lambda=1, scale_pos_weight=5, subsample=0.8; total time=   0.0s\n",
      "[CV] END colsample_bytree=0.5, gamma=0, learning_rate=0.05, max_depth=3, reg_lambda=1, scale_pos_weight=5, subsample=0.8; total time=   0.0s\n",
      "[CV] END colsample_bytree=0.5, gamma=0.25, learning_rate=0.01, max_depth=3, reg_lambda=1, scale_pos_weight=1, subsample=0.8; total time=   0.0s\n",
      "[CV] END colsample_bytree=0.5, gamma=0.25, learning_rate=0.01, max_depth=3, reg_lambda=1, scale_pos_weight=1, subsample=0.8; total time=   0.0s\n",
      "[CV] END colsample_bytree=0.5, gamma=0.25, learning_rate=0.01, max_depth=3, reg_lambda=1, scale_pos_weight=1, subsample=0.8; total time=   0.0s\n",
      "[CV] END colsample_bytree=0.5, gamma=0.25, learning_rate=0.01, max_depth=3, reg_lambda=1, scale_pos_weight=1, subsample=0.8; total time=   0.0s\n",
      "[CV] END colsample_bytree=0.5, gamma=0.25, learning_rate=0.01, max_depth=3, reg_lambda=1, scale_pos_weight=1, subsample=0.8; total time=   0.0s\n",
      "[CV] END colsample_bytree=0.5, gamma=0.25, learning_rate=0.1, max_depth=4, reg_lambda=1, scale_pos_weight=3, subsample=0.8; total time=   0.0s\n",
      "[CV] END colsample_bytree=0.5, gamma=0.25, learning_rate=0.1, max_depth=4, reg_lambda=1, scale_pos_weight=3, subsample=0.8; total time=   0.0s\n",
      "[CV] END colsample_bytree=0.5, gamma=0.25, learning_rate=0.1, max_depth=4, reg_lambda=1, scale_pos_weight=3, subsample=0.8; total time=   0.0s\n",
      "[CV] END colsample_bytree=0.5, gamma=0.25, learning_rate=0.1, max_depth=4, reg_lambda=1, scale_pos_weight=3, subsample=0.8; total time=   0.0s\n",
      "[CV] END colsample_bytree=0.5, gamma=0.25, learning_rate=0.1, max_depth=4, reg_lambda=1, scale_pos_weight=3, subsample=0.8; total time=   0.0s\n",
      "[CV] END colsample_bytree=0.5, gamma=0, learning_rate=0.01, max_depth=7, reg_lambda=0, scale_pos_weight=5, subsample=0.8; total time=   0.1s\n",
      "[CV] END colsample_bytree=0.5, gamma=0, learning_rate=0.01, max_depth=7, reg_lambda=0, scale_pos_weight=5, subsample=0.8; total time=   0.1s\n",
      "[CV] END colsample_bytree=0.5, gamma=0, learning_rate=0.01, max_depth=7, reg_lambda=0, scale_pos_weight=5, subsample=0.8; total time=   0.1s\n",
      "[CV] END colsample_bytree=0.5, gamma=0, learning_rate=0.01, max_depth=7, reg_lambda=0, scale_pos_weight=5, subsample=0.8; total time=   0.1s\n",
      "[CV] END colsample_bytree=0.5, gamma=0, learning_rate=0.01, max_depth=7, reg_lambda=0, scale_pos_weight=5, subsample=0.8; total time=   0.1s\n",
      "[CV] END colsample_bytree=0.5, gamma=1, learning_rate=0.1, max_depth=4, reg_lambda=1, scale_pos_weight=1, subsample=0.8; total time=   0.0s\n",
      "[CV] END colsample_bytree=0.5, gamma=1, learning_rate=0.1, max_depth=4, reg_lambda=1, scale_pos_weight=1, subsample=0.8; total time=   0.1s\n",
      "[CV] END colsample_bytree=0.5, gamma=1, learning_rate=0.1, max_depth=4, reg_lambda=1, scale_pos_weight=1, subsample=0.8; total time=   0.0s\n",
      "[CV] END colsample_bytree=0.5, gamma=1, learning_rate=0.1, max_depth=4, reg_lambda=1, scale_pos_weight=1, subsample=0.8; total time=   0.1s\n",
      "[CV] END colsample_bytree=0.5, gamma=1, learning_rate=0.1, max_depth=4, reg_lambda=1, scale_pos_weight=1, subsample=0.8; total time=   0.0s\n",
      "[CV] END colsample_bytree=0.5, gamma=1, learning_rate=0.01, max_depth=4, reg_lambda=1, scale_pos_weight=1, subsample=0.8; total time=   0.0s\n",
      "[CV] END colsample_bytree=0.5, gamma=1, learning_rate=0.01, max_depth=4, reg_lambda=1, scale_pos_weight=1, subsample=0.8; total time=   0.0s\n",
      "[CV] END colsample_bytree=0.5, gamma=1, learning_rate=0.01, max_depth=4, reg_lambda=1, scale_pos_weight=1, subsample=0.8; total time=   0.0s\n",
      "[CV] END colsample_bytree=0.5, gamma=1, learning_rate=0.01, max_depth=4, reg_lambda=1, scale_pos_weight=1, subsample=0.8; total time=   0.0s\n",
      "[CV] END colsample_bytree=0.5, gamma=1, learning_rate=0.01, max_depth=4, reg_lambda=1, scale_pos_weight=1, subsample=0.8; total time=   0.0s\n",
      "[CV] END colsample_bytree=0.5, gamma=1, learning_rate=0.01, max_depth=3, reg_lambda=10, scale_pos_weight=1, subsample=0.8; total time=   0.0s\n",
      "[CV] END colsample_bytree=0.5, gamma=1, learning_rate=0.01, max_depth=3, reg_lambda=10, scale_pos_weight=1, subsample=0.8; total time=   0.0s\n",
      "[CV] END colsample_bytree=0.5, gamma=1, learning_rate=0.01, max_depth=3, reg_lambda=10, scale_pos_weight=1, subsample=0.8; total time=   0.0s\n",
      "[CV] END colsample_bytree=0.5, gamma=1, learning_rate=0.01, max_depth=3, reg_lambda=10, scale_pos_weight=1, subsample=0.8; total time=   0.0s\n",
      "[CV] END colsample_bytree=0.5, gamma=1, learning_rate=0.01, max_depth=3, reg_lambda=10, scale_pos_weight=1, subsample=0.8; total time=   0.0s\n",
      "[CV] END colsample_bytree=0.5, gamma=0, learning_rate=0.1, max_depth=3, reg_lambda=1, scale_pos_weight=3, subsample=0.8; total time=   0.0s\n",
      "[CV] END colsample_bytree=0.5, gamma=0, learning_rate=0.1, max_depth=3, reg_lambda=1, scale_pos_weight=3, subsample=0.8; total time=   0.0s\n",
      "[CV] END colsample_bytree=0.5, gamma=0, learning_rate=0.1, max_depth=3, reg_lambda=1, scale_pos_weight=3, subsample=0.8; total time=   0.0s\n",
      "[CV] END colsample_bytree=0.5, gamma=0, learning_rate=0.1, max_depth=3, reg_lambda=1, scale_pos_weight=3, subsample=0.8; total time=   0.0s\n",
      "[CV] END colsample_bytree=0.5, gamma=0, learning_rate=0.1, max_depth=3, reg_lambda=1, scale_pos_weight=3, subsample=0.8; total time=   0.0s\n",
      "[CV] END colsample_bytree=0.5, gamma=0.25, learning_rate=0.05, max_depth=3, reg_lambda=0, scale_pos_weight=1, subsample=0.8; total time=   0.0s\n",
      "[CV] END colsample_bytree=0.5, gamma=0.25, learning_rate=0.05, max_depth=3, reg_lambda=0, scale_pos_weight=1, subsample=0.8; total time=   0.0s\n",
      "[CV] END colsample_bytree=0.5, gamma=0.25, learning_rate=0.05, max_depth=3, reg_lambda=0, scale_pos_weight=1, subsample=0.8; total time=   0.0s\n",
      "[CV] END colsample_bytree=0.5, gamma=0.25, learning_rate=0.05, max_depth=3, reg_lambda=0, scale_pos_weight=1, subsample=0.8; total time=   0.0s\n",
      "[CV] END colsample_bytree=0.5, gamma=0.25, learning_rate=0.05, max_depth=3, reg_lambda=0, scale_pos_weight=1, subsample=0.8; total time=   0.0s\n",
      "[CV] END colsample_bytree=0.5, gamma=0, learning_rate=0.01, max_depth=3, reg_lambda=10, scale_pos_weight=5, subsample=0.8; total time=   0.0s\n",
      "[CV] END colsample_bytree=0.5, gamma=0, learning_rate=0.01, max_depth=3, reg_lambda=10, scale_pos_weight=5, subsample=0.8; total time=   0.0s\n",
      "[CV] END colsample_bytree=0.5, gamma=0, learning_rate=0.01, max_depth=3, reg_lambda=10, scale_pos_weight=5, subsample=0.8; total time=   0.0s\n",
      "[CV] END colsample_bytree=0.5, gamma=0, learning_rate=0.01, max_depth=3, reg_lambda=10, scale_pos_weight=5, subsample=0.8; total time=   0.0s\n",
      "[CV] END colsample_bytree=0.5, gamma=0, learning_rate=0.01, max_depth=3, reg_lambda=10, scale_pos_weight=5, subsample=0.8; total time=   0.0s\n",
      "[CV] END colsample_bytree=0.5, gamma=1, learning_rate=0.05, max_depth=4, reg_lambda=0, scale_pos_weight=5, subsample=0.8; total time=   0.0s\n",
      "[CV] END colsample_bytree=0.5, gamma=1, learning_rate=0.05, max_depth=4, reg_lambda=0, scale_pos_weight=5, subsample=0.8; total time=   0.0s\n",
      "[CV] END colsample_bytree=0.5, gamma=1, learning_rate=0.05, max_depth=4, reg_lambda=0, scale_pos_weight=5, subsample=0.8; total time=   0.0s\n",
      "[CV] END colsample_bytree=0.5, gamma=1, learning_rate=0.05, max_depth=4, reg_lambda=0, scale_pos_weight=5, subsample=0.8; total time=   0.0s\n",
      "[CV] END colsample_bytree=0.5, gamma=1, learning_rate=0.05, max_depth=4, reg_lambda=0, scale_pos_weight=5, subsample=0.8; total time=   0.0s\n",
      "[CV] END colsample_bytree=0.5, gamma=1, learning_rate=0.01, max_depth=5, reg_lambda=1, scale_pos_weight=5, subsample=0.8; total time=   0.0s\n",
      "[CV] END colsample_bytree=0.5, gamma=1, learning_rate=0.01, max_depth=5, reg_lambda=1, scale_pos_weight=5, subsample=0.8; total time=   0.0s\n",
      "[CV] END colsample_bytree=0.5, gamma=1, learning_rate=0.01, max_depth=5, reg_lambda=1, scale_pos_weight=5, subsample=0.8; total time=   0.0s\n",
      "[CV] END colsample_bytree=0.5, gamma=1, learning_rate=0.01, max_depth=5, reg_lambda=1, scale_pos_weight=5, subsample=0.8; total time=   0.1s\n",
      "[CV] END colsample_bytree=0.5, gamma=1, learning_rate=0.01, max_depth=5, reg_lambda=1, scale_pos_weight=5, subsample=0.8; total time=   0.0s\n",
      "[CV] END colsample_bytree=0.5, gamma=0.25, learning_rate=0.05, max_depth=5, reg_lambda=1, scale_pos_weight=3, subsample=0.8; total time=   0.0s\n",
      "[CV] END colsample_bytree=0.5, gamma=0.25, learning_rate=0.05, max_depth=5, reg_lambda=1, scale_pos_weight=3, subsample=0.8; total time=   0.0s\n",
      "[CV] END colsample_bytree=0.5, gamma=0.25, learning_rate=0.05, max_depth=5, reg_lambda=1, scale_pos_weight=3, subsample=0.8; total time=   0.0s\n",
      "[CV] END colsample_bytree=0.5, gamma=0.25, learning_rate=0.05, max_depth=5, reg_lambda=1, scale_pos_weight=3, subsample=0.8; total time=   0.1s\n",
      "[CV] END colsample_bytree=0.5, gamma=0.25, learning_rate=0.05, max_depth=5, reg_lambda=1, scale_pos_weight=3, subsample=0.8; total time=   0.1s\n",
      "[CV] END colsample_bytree=0.5, gamma=0.25, learning_rate=0.05, max_depth=3, reg_lambda=10, scale_pos_weight=3, subsample=0.8; total time=   0.0s\n",
      "[CV] END colsample_bytree=0.5, gamma=0.25, learning_rate=0.05, max_depth=3, reg_lambda=10, scale_pos_weight=3, subsample=0.8; total time=   0.0s\n",
      "[CV] END colsample_bytree=0.5, gamma=0.25, learning_rate=0.05, max_depth=3, reg_lambda=10, scale_pos_weight=3, subsample=0.8; total time=   0.0s\n",
      "[CV] END colsample_bytree=0.5, gamma=0.25, learning_rate=0.05, max_depth=3, reg_lambda=10, scale_pos_weight=3, subsample=0.8; total time=   0.0s\n",
      "[CV] END colsample_bytree=0.5, gamma=0.25, learning_rate=0.05, max_depth=3, reg_lambda=10, scale_pos_weight=3, subsample=0.8; total time=   0.0s\n",
      "[CV] END colsample_bytree=0.5, gamma=0, learning_rate=0.05, max_depth=4, reg_lambda=10, scale_pos_weight=3, subsample=0.8; total time=   0.0s\n",
      "[CV] END colsample_bytree=0.5, gamma=0, learning_rate=0.05, max_depth=4, reg_lambda=10, scale_pos_weight=3, subsample=0.8; total time=   0.0s\n",
      "[CV] END colsample_bytree=0.5, gamma=0, learning_rate=0.05, max_depth=4, reg_lambda=10, scale_pos_weight=3, subsample=0.8; total time=   0.0s\n",
      "[CV] END colsample_bytree=0.5, gamma=0, learning_rate=0.05, max_depth=4, reg_lambda=10, scale_pos_weight=3, subsample=0.8; total time=   0.0s\n",
      "[CV] END colsample_bytree=0.5, gamma=0, learning_rate=0.05, max_depth=4, reg_lambda=10, scale_pos_weight=3, subsample=0.8; total time=   0.0s\n",
      "[CV] END colsample_bytree=0.5, gamma=0, learning_rate=0.05, max_depth=4, reg_lambda=1, scale_pos_weight=1, subsample=0.8; total time=   0.0s\n",
      "[CV] END colsample_bytree=0.5, gamma=0, learning_rate=0.05, max_depth=4, reg_lambda=1, scale_pos_weight=1, subsample=0.8; total time=   0.0s\n",
      "[CV] END colsample_bytree=0.5, gamma=0, learning_rate=0.05, max_depth=4, reg_lambda=1, scale_pos_weight=1, subsample=0.8; total time=   0.0s\n",
      "[CV] END colsample_bytree=0.5, gamma=0, learning_rate=0.05, max_depth=4, reg_lambda=1, scale_pos_weight=1, subsample=0.8; total time=   0.0s\n",
      "[CV] END colsample_bytree=0.5, gamma=0, learning_rate=0.05, max_depth=4, reg_lambda=1, scale_pos_weight=1, subsample=0.8; total time=   0.0s\n"
     ]
    },
    {
     "data": {
      "text/plain": [
       "RandomizedSearchCV(cv=5,\n",
       "                   estimator=XGBClassifier(base_score=None, booster=None,\n",
       "                                           callbacks=None,\n",
       "                                           colsample_bylevel=None,\n",
       "                                           colsample_bynode=None,\n",
       "                                           colsample_bytree=None,\n",
       "                                           early_stopping_rounds=None,\n",
       "                                           enable_categorical=False,\n",
       "                                           eval_metric=None, feature_types=None,\n",
       "                                           gamma=None, gpu_id=None,\n",
       "                                           grow_policy=None,\n",
       "                                           importance_type=None,\n",
       "                                           interaction_constraints=None,\n",
       "                                           learning_rate...\n",
       "                                           min_child_weight=None, missing=nan,\n",
       "                                           monotone_constraints=None,\n",
       "                                           n_estimators=100, n_jobs=None,\n",
       "                                           num_parallel_tree=None,\n",
       "                                           predictor=None, random_state=None, ...),\n",
       "                   n_iter=20,\n",
       "                   param_distributions={'colsample_bytree': [0.5],\n",
       "                                        'gamma': [0, 0.25, 1],\n",
       "                                        'learning_rate': [0.1, 0.01, 0.05],\n",
       "                                        'max_depth': [3, 4, 5, 7],\n",
       "                                        'reg_lambda': [0, 1, 10],\n",
       "                                        'scale_pos_weight': [1, 3, 5],\n",
       "                                        'subsample': [0.8]},\n",
       "                   verbose=2)"
      ]
     },
     "execution_count": 122,
     "metadata": {},
     "output_type": "execute_result"
    }
   ],
   "source": [
    "param_grid = {\n",
    "    \"max_depth\": [3, 4, 5, 7],\n",
    "    \"learning_rate\": [0.1, 0.01, 0.05],\n",
    "    \"gamma\": [0, 0.25, 1],\n",
    "    \"reg_lambda\": [0, 1, 10],\n",
    "    \"scale_pos_weight\": [1, 3, 5],\n",
    "    \"subsample\": [0.8],\n",
    "    \"colsample_bytree\": [0.5]}\n",
    "\n",
    "rs_xgb = RandomizedSearchCV(xgb_clf, param_distributions=param_grid, cv=5, n_iter=20, verbose=2)\n",
    "rs_xgb.fit(X_train,y_train)"
   ]
  },
  {
   "cell_type": "code",
   "execution_count": 123,
   "id": "67b62d36",
   "metadata": {},
   "outputs": [
    {
     "data": {
      "text/plain": [
       "{'subsample': 0.8,\n",
       " 'scale_pos_weight': 1,\n",
       " 'reg_lambda': 1,\n",
       " 'max_depth': 4,\n",
       " 'learning_rate': 0.05,\n",
       " 'gamma': 0,\n",
       " 'colsample_bytree': 0.5}"
      ]
     },
     "execution_count": 123,
     "metadata": {},
     "output_type": "execute_result"
    }
   ],
   "source": [
    "rs_xgb.best_params_"
   ]
  },
  {
   "cell_type": "code",
   "execution_count": 124,
   "id": "108fff1b",
   "metadata": {},
   "outputs": [
    {
     "data": {
      "text/plain": [
       "0.8360655737704918"
      ]
     },
     "execution_count": 124,
     "metadata": {},
     "output_type": "execute_result"
    }
   ],
   "source": [
    "rs_xgb.score(X_test,y_test)"
   ]
  },
  {
   "cell_type": "markdown",
   "id": "c1f0ccf6",
   "metadata": {},
   "source": [
    "## Result:\n",
    "\n",
    "Logistic Regressor model has the best accuracy for the particular dataset."
   ]
  }
 ],
 "metadata": {
  "kernelspec": {
   "display_name": "Python 3 (ipykernel)",
   "language": "python",
   "name": "python3"
  },
  "language_info": {
   "codemirror_mode": {
    "name": "ipython",
    "version": 3
   },
   "file_extension": ".py",
   "mimetype": "text/x-python",
   "name": "python",
   "nbconvert_exporter": "python",
   "pygments_lexer": "ipython3",
   "version": "3.9.13"
  }
 },
 "nbformat": 4,
 "nbformat_minor": 5
}
